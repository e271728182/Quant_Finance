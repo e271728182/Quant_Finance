{
 "cells": [
  {
   "cell_type": "code",
   "execution_count": 1,
   "metadata": {},
   "outputs": [],
   "source": [
    "#those are the python packages you need\n",
    "import numpy as np\n",
    "import pandas as pd\n",
    "#import FortitudeRe as frl\n",
    "import random\n",
    "import statistics\n",
    "import csv\n",
    "import time\n",
    "import QuantLib as ql "
   ]
  },
  {
   "cell_type": "code",
   "execution_count": 2,
   "metadata": {},
   "outputs": [],
   "source": [
    "dayCount=ql.ActualActual()\n",
    "calendar = ql.UnitedStates()\n",
    "interpolation = ql.Linear()\n",
    "compounding = ql.Compounded"
   ]
  },
  {
   "cell_type": "markdown",
   "metadata": {},
   "source": [
    "## Gradient Algorithm and helper class "
   ]
  },
  {
   "cell_type": "code",
   "execution_count": 100,
   "metadata": {},
   "outputs": [],
   "source": [
    "#those are the 2 classes you need \n",
    "class cashFlowObj:\n",
    "    def __init__(self):\n",
    "        self.isin='abc'\n",
    "        self.isGrouped=False\n",
    "        self.mvLcl=0\n",
    "        self.mvUsd=0\n",
    "        self.cashFlowsUsdCurrent=pd.Series()\n",
    "        self.weight=1\n",
    "        self.issueDate='1900-01-01'\n",
    "        self.derivative=0\n",
    "       \n",
    "def gradientSolver(assetList,liability,nbIter,flatDiscount,halfRate=50,minLearnRate=0.01,learningRate=1,randomize=False):\n",
    "#Gradient descent function that outputs a dictionary of asset identifier=key and weight of the asset +cost function over time\n",
    "#this function assumes a sum of square as the cost function\n",
    "#quite many more variations could be made but this one is fun :)\n",
    "\n",
    "#sum CF per year\n",
    "    total=pd.Series()\n",
    "    alm=pd.Series()\n",
    "    learningRate=learningRate\n",
    "    costF=[]\n",
    "    nbiter=nbIter\n",
    "    decay=2\n",
    "    statsL=[]\n",
    "    if randomize==True:\n",
    "        for asset in assetList:\n",
    "            asset.weight=0.001\n",
    "            \n",
    "    for itera in range(nbiter):\n",
    "        if itera%halfRate==0:\n",
    "            learningRate=max(learningRate/decay,minLearnRate)\n",
    "        #learningRate=learningRate*decay\n",
    "        #sum up all cf per time period\n",
    "        #calculate total CF there \n",
    "        for item in assetList: #there is a better way than loop but its easier to understand\n",
    "            total=total.add(item.cashFlowsUsdCurrent*item.weight,fill_value=0)\n",
    "\n",
    "        #asset minus liabilities\n",
    "        alm=alm.add(total,fill_value=0) #add assets\n",
    "        \n",
    "        alm=alm.add(-liability.cashFlowsUsdCurrent,fill_value=0) #add liabilities\n",
    "\n",
    "        #derivative sumOfSquare\n",
    "        normD=0\n",
    "\n",
    "        #normalize the derivatives\n",
    "        for item in assetList:\n",
    "            #item.derivative= pd.Series(alm*item.cashFlowsUsdCurrent).sum()\n",
    "            item.derivative=np.npv(flatDiscount,alm*item.cashFlowsUsdCurrent)\n",
    "            #statsL.append(pd.Series(alm*item.cashFlowsUsdCurrent).sum())\n",
    "            statsL.append(item.derivative)\n",
    "        std=statistics.stdev(statsL)\n",
    "        mean=statistics.mean(statsL)\n",
    "        \n",
    "\n",
    "        for item in assetList:\n",
    "            #calculate derivative according to a sum of square minimization\n",
    "                #item.derivative= pd.Series(alm*item.cashFlowsUsdCurrent).sum()\n",
    "                #item.derivative=item.derivative/std\n",
    "                #print(item.derivative/normD)\n",
    "                item.weight=item.weight-learningRate*((item.derivative)/std)\n",
    "                #item.weight=max(min(item.weight,1),0)\n",
    "                #item.weight=max(min(1,item.weight),0)\n",
    "                item.cashFlowsUsdCurrent=item.cashFlowsUsdCurrent\n",
    "    #reset to 0\n",
    "        #costF.append(pd.Series.sum(alm**2))\n",
    "        costF.append(np.npv(flatDiscount,alm**2))\n",
    "        alm=alm*0\n",
    "        total=total*0\n",
    "        statsL.clear()\n",
    "    isinWeight={item.isin:item.weight for item in assetList}\n",
    "    return isinWeight,costF"
   ]
  },
  {
   "cell_type": "markdown",
   "metadata": {},
   "source": [
    "## Bogus Liability"
   ]
  },
  {
   "cell_type": "code",
   "execution_count": 107,
   "metadata": {},
   "outputs": [],
   "source": [
    "#pick up the liability\n",
    "iniAlm=pd.Series()\n",
    "a=np.ones(30)*0.9\n",
    "a=a.cumprod()+np.random.sample(30)/7 \n",
    "    \n",
    "a=a*140000000\n",
    "\n",
    "#df2=pd.read_excel(path,sheet_name='Liability')\n",
    "liability=cashFlowObj()\n",
    "#liability.cashFlowsUsdCurrent=pd.Series(df2['Liability'].copy())\n",
    "liability.cashFlowsUsdCurrent=pd.Series(a)\n",
    "#Just to see the original ALM\n"
   ]
  },
  {
   "cell_type": "code",
   "execution_count": 88,
   "metadata": {},
   "outputs": [
    {
     "data": {
      "text/plain": [
       "0      4\n",
       "1      9\n",
       "2    441\n",
       "3      1\n",
       "dtype: int64"
      ]
     },
     "execution_count": 88,
     "metadata": {},
     "output_type": "execute_result"
    }
   ],
   "source": [
    "x=pd.Series([2,3,21,1])\n",
    "x**2"
   ]
  },
  {
   "cell_type": "markdown",
   "metadata": {},
   "source": [
    "## Bogus Asset cash flows list "
   ]
  },
  {
   "cell_type": "code",
   "execution_count": 108,
   "metadata": {},
   "outputs": [],
   "source": [
    "\n",
    "assetList=[]\n",
    "\n",
    "\n",
    "#bogus assets\n",
    "for i in range(0,250):\n",
    "    faceAmount=random.randint(10,25)*100000*3**random.randint(1,2)\n",
    "    coupon=random.randint(30, 50)/1000\n",
    "    asset=cashFlowObj()\n",
    "    asset.isin='bogus'+str(i)\n",
    "    maturity=random.randint(0,31)\n",
    "    asset.cashFlowsUsdCurrent=pd.Series(np.zeros(90))\n",
    "    asset.cashFlowsUsdCurrent=asset.cashFlowsUsdCurrent.add(pd.Series(coupon*faceAmount*np.ones(maturity)),fill_value=0)\n",
    "    asset.cashFlowsUsdCurrent[maturity]=asset.cashFlowsUsdCurrent[maturity]+faceAmount*(1+coupon)\n",
    "    assetList.append(asset)\n",
    "\n",
    "#add a few mores\n",
    "for k in range(1,10):\n",
    "    bigOnes=[0,1,2,5,7]\n",
    "    for big in bigOnes:\n",
    "        asset=cashFlowObj()\n",
    "        coupon=0.03\n",
    "        maturity=big\n",
    "        asset.isin='big'+str(k)+'_'+str(maturity)\n",
    "        if big in [0,1,2,3]:\n",
    "            faceAmount=1.1/10*liability.cashFlowsUsdCurrent[maturity]\n",
    "            \n",
    "        else:    \n",
    "            faceAmount=0.3/10*liability.cashFlowsUsdCurrent[maturity]\n",
    "        asset.cashFlowsUsdCurrent=pd.Series(np.zeros(90))\n",
    "        asset.cashFlowsUsdCurrent=asset.cashFlowsUsdCurrent.add(pd.Series(coupon*faceAmount*np.ones(maturity)),fill_value=0)\n",
    "        asset.cashFlowsUsdCurrent[maturity]=asset.cashFlowsUsdCurrent[maturity]+faceAmount*(1+coupon)\n",
    "        assetList.append(asset)"
   ]
  },
  {
   "cell_type": "markdown",
   "metadata": {},
   "source": [
    "## Original ALM mistmatch\n",
    " "
   ]
  },
  {
   "cell_type": "code",
   "execution_count": 109,
   "metadata": {},
   "outputs": [
    {
     "data": {
      "text/plain": [
       "<matplotlib.axes._subplots.AxesSubplot at 0x11fe9bf60>"
      ]
     },
     "execution_count": 109,
     "metadata": {},
     "output_type": "execute_result"
    },
    {
     "data": {
      "image/png": "[encoded data removed]",
      "text/plain": [
       "<Figure size 432x288 with 1 Axes>"
      ]
     },
     "metadata": {
      "needs_background": "light"
     },
     "output_type": "display_data"
    }
   ],
   "source": [
    "#original ALM\n",
    "\n",
    "for item in assetList: #there is a better way than loop but its easier to understand\n",
    "    iniAlm=iniAlm.add(item.cashFlowsUsdCurrent*item.weight,fill_value=0)\n",
    "iniAlm=iniAlm.add(-liability.cashFlowsUsdCurrent,fill_value=0)\n",
    "\n",
    "iniAlm[:35].plot.bar(title =\"ALM mistmatch\",rot=0,legend=True, fontsize=12)\n"
   ]
  },
  {
   "cell_type": "code",
   "execution_count": 110,
   "metadata": {},
   "outputs": [
    {
     "name": "stdout",
     "output_type": "stream",
     "text": [
      "--- 5.696853399276733 seconds ---\n"
     ]
    }
   ],
   "source": [
    "#enter value for the gradient solver \n",
    "startTime=time.time()\n",
    "weightDict,costFunction=gradientSolver(assetList,liability,nbIter=40,flatDiscount=0.03,halfRate=50,minLearnRate=0.001,learningRate=0.1,randomize=False)\n",
    "print(\"--- %s seconds ---\" % (time.time() - startTime))\n"
   ]
  },
  {
   "cell_type": "code",
   "execution_count": 105,
   "metadata": {},
   "outputs": [],
   "source": [
    "for asset in assetList:\n",
    "    asset.weight=weightDict[asset.isin]"
   ]
  },
  {
   "cell_type": "markdown",
   "metadata": {},
   "source": [
    "## Final results "
   ]
  },
  {
   "cell_type": "code",
   "execution_count": 111,
   "metadata": {},
   "outputs": [
    {
     "name": "stdout",
     "output_type": "stream",
     "text": [
      "AxesSubplot(0.125,0.125;0.775x0.755)\n"
     ]
    },
    {
     "data": {
      "image/png": "[encoded data removed]",
      "text/plain": [
       "<Figure size 432x288 with 1 Axes>"
      ]
     },
     "metadata": {
      "needs_background": "light"
     },
     "output_type": "display_data"
    }
   ],
   "source": [
    "print(pd.Series(costFunction/costFunction[0]).plot.line())\n",
    "#As you can see it show a 90%+ improvement"
   ]
  },
  {
   "cell_type": "code",
   "execution_count": 112,
   "metadata": {},
   "outputs": [
    {
     "name": "stdout",
     "output_type": "stream",
     "text": [
      "percentage improvement = 99.4364%\n"
     ]
    }
   ],
   "source": [
    "#you can output the dictionary to a file if you want the print is just to show you\n",
    "#print(weightDict)\n",
    "print('percentage improvement = {:.4%}'.format(1-costFunction[-1]/costFunction[0]))"
   ]
  },
  {
   "cell_type": "code",
   "execution_count": 113,
   "metadata": {},
   "outputs": [
    {
     "name": "stdout",
     "output_type": "stream",
     "text": [
      "AxesSubplot(0.125,0.125;0.775x0.755)\n"
     ]
    },
    {
     "data": {
      "image/png": "[encoded data removed]",
      "text/plain": [
       "<Figure size 432x288 with 1 Axes>"
      ]
     },
     "metadata": {
      "needs_background": "light"
     },
     "output_type": "display_data"
    }
   ],
   "source": [
    "finALm=iniAlm*0\n",
    "for item in assetList: #there is a better way than loop but its easier to understand\n",
    "    finALm=finALm.add(item.cashFlowsUsdCurrent*item.weight,fill_value=0)\n",
    "finALm=finALm.add(-liability.cashFlowsUsdCurrent,fill_value=0)\n",
    "#final ALM\n",
    "print(finALm[:35].plot.bar(title =\"ALM mistmatch\",rot=0,legend=True, fontsize=12))"
   ]
  },
  {
   "cell_type": "code",
   "execution_count": 114,
   "metadata": {},
   "outputs": [],
   "source": [
    "\n",
    "\n",
    "#Save asset weights\n",
    "with open(r'c:\\test.csv', 'w') as f:\n",
    "    for key in weightDict.keys():\n",
    "        f.write(\"%s,%s\\n\"%(key,weightDict[key]))"
   ]
  },
  {
   "cell_type": "code",
   "execution_count": null,
   "metadata": {},
   "outputs": [],
   "source": []
  }
 ],
 "metadata": {
  "kernelspec": {
   "display_name": "Python 3",
   "language": "python",
   "name": "python3"
  },
  "language_info": {
   "codemirror_mode": {
    "name": "ipython",
    "version": 3
   },
   "file_extension": ".py",
   "mimetype": "text/x-python",
   "name": "python",
   "nbconvert_exporter": "python",
   "pygments_lexer": "ipython3",
   "version": "3.7.3"
  }
 },
 "nbformat": 4,
 "nbformat_minor": 2
}
