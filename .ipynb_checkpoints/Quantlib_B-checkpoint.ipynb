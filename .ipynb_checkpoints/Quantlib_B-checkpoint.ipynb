{
 "cells": [
  {
   "cell_type": "markdown",
   "metadata": {},
   "source": [
    "# ReadMe\n"
   ]
  },
  {
   "cell_type": "markdown",
   "metadata": {},
   "source": [
    "<font size=\"4\">This Notebook is a walkthrough of various QuantLib funtionalities commonly used for financial mathematics AND an algorithm to create a time zero term structure of interest satisfying virtually any implied term structure changes via spreads.\n",
    "\n",
    "this Notebook is divided into the following sections:<br><br>\n",
    "__Inputs,Initialization and helper functions__:Section to import libraries, upload required inputs <br>\n",
    "<br> __Section 1.0 to 6.0__: Examples of various financial mathematics applications such as creating a term structure of interest and working with its implied forward curves and discounting cash flows along a term structure of interest<br><br>\n",
    "\n",
    "__Section 7.0__: an algorithm to create among other things what is known as the Bermuda Scenarios used for measuring interest rate risk. It essentially creates a time 0 term structure of interest by calibrating spreads between periods so that all implied term structure in future time periods are consistents with the required scenario. <br>\n",
    "By creating such a time 0 curve, all is required after is simply discounting along it as the examples in section 1 to 6 show.\n"
   ]
  },
  {
   "cell_type": "markdown",
   "metadata": {},
   "source": [
    "## Inputs, Initialization and helper functions "
   ]
  },
  {
   "cell_type": "code",
   "execution_count": 1,
   "metadata": {},
   "outputs": [],
   "source": [
    "from QuantLib import *\n",
    "import QuantLib as ql\n",
    "import pandas as pd\n",
    "import numpy as np\n",
    "from copy import deepcopy\n",
    "import os \n",
    "from scipy.optimize import newton, root_scalar\n",
    "import bmaOs as bma\n",
    "import pymongo as py\n",
    "from dataclasses import dataclass"
   ]
  },
  {
   "cell_type": "code",
   "execution_count": 83,
   "metadata": {},
   "outputs": [],
   "source": [
    "@dataclass\n",
    "class DateTimeStruct:\n",
    "    effectiveDate:ql.Date = ql.Date(30, 9, 2019)\n",
    "    terminationDate = ql.Date(30, 9, 2118)\n",
    "    tenor = ql.Period(ql.Annual)\n",
    "    calendar = ql.UnitedStates()\n",
    "    businessConvention = ql.Following\n",
    "    terminationBusinessConvention = ql.Following\n",
    "    dateGeneration = ql.DateGeneration.Forward\n",
    "    endOfMonth = True\n",
    "\n",
    "@dataclass\n",
    "class IntRatesStruct:\n",
    "    interpolation = ql.Linear()\n",
    "    compounding = ql.Compounded\n",
    "    compoundingFrequency = ql.Annual\n",
    "    dayCount=ql.ActualActual()"
   ]
  },
  {
   "cell_type": "code",
   "execution_count": 2,
   "metadata": {},
   "outputs": [],
   "source": [
    "path='/Users/gabounet/Quant_Finance/bma_discount2019Q1.xlsx'\n",
    "todayDate = ql.Date(30, 9, 2019)\n",
    "dfbma=pd.read_excel(path,sheet_name='test')\n",
    "dfbma['US']=dfbma['US']\n",
    "dfbma['US'].head()\n",
    "dfbma.insert(0, 'ID', range(0, len(dfbma)))\n",
    "dfbma['Date']=TARGET().advance(todayDate,0,Years)"
   ]
  },
  {
   "cell_type": "code",
   "execution_count": 3,
   "metadata": {},
   "outputs": [],
   "source": [
    "#this connects to MongoDb which is a document database where assumptions & inputs are stored\n",
    "client=py.MongoClient('mongodb://localhost:27017/')\n",
    "dbt=client.bmaTest\n",
    "deltas=dbt.test.find_one({'abc':'cda'}) #because this is a POC the schema of the documents has not been defined yet "
   ]
  },
  {
   "cell_type": "code",
   "execution_count": 4,
   "metadata": {},
   "outputs": [
    {
     "data": {
      "text/html": [
       "<div>\n",
       "<style scoped>\n",
       "    .dataframe tbody tr th:only-of-type {\n",
       "        vertical-align: middle;\n",
       "    }\n",
       "\n",
       "    .dataframe tbody tr th {\n",
       "        vertical-align: top;\n",
       "    }\n",
       "\n",
       "    .dataframe thead th {\n",
       "        text-align: right;\n",
       "    }\n",
       "</style>\n",
       "<table border=\"1\" class=\"dataframe\">\n",
       "  <thead>\n",
       "    <tr style=\"text-align: right;\">\n",
       "      <th></th>\n",
       "      <th>ID</th>\n",
       "      <th>Maturity</th>\n",
       "      <th>US</th>\n",
       "      <th>Euro</th>\n",
       "      <th>UK</th>\n",
       "      <th>Switzerland</th>\n",
       "      <th>Canada</th>\n",
       "      <th>Japan</th>\n",
       "      <th>Australia</th>\n",
       "      <th>New Zealand</th>\n",
       "      <th>Hong Kong</th>\n",
       "      <th>Unnamed: 10</th>\n",
       "      <th>Date</th>\n",
       "    </tr>\n",
       "  </thead>\n",
       "  <tbody>\n",
       "    <tr>\n",
       "      <th>0</th>\n",
       "      <td>0</td>\n",
       "      <td>0 Year</td>\n",
       "      <td>0.000000</td>\n",
       "      <td>0.000000</td>\n",
       "      <td>0.000000</td>\n",
       "      <td>0.000000</td>\n",
       "      <td>0.000000</td>\n",
       "      <td>0.000000</td>\n",
       "      <td>0.000000</td>\n",
       "      <td>0.000000</td>\n",
       "      <td>0.000000</td>\n",
       "      <td>NaN</td>\n",
       "      <td>September 30th, 2019</td>\n",
       "    </tr>\n",
       "    <tr>\n",
       "      <th>1</th>\n",
       "      <td>1</td>\n",
       "      <td>1 Year</td>\n",
       "      <td>0.024949</td>\n",
       "      <td>-0.004150</td>\n",
       "      <td>0.008589</td>\n",
       "      <td>-0.008367</td>\n",
       "      <td>0.019260</td>\n",
       "      <td>-0.001125</td>\n",
       "      <td>0.016224</td>\n",
       "      <td>0.015871</td>\n",
       "      <td>0.018065</td>\n",
       "      <td>0.023449</td>\n",
       "      <td>October 30th, 2019</td>\n",
       "    </tr>\n",
       "    <tr>\n",
       "      <th>2</th>\n",
       "      <td>2</td>\n",
       "      <td>2 Years</td>\n",
       "      <td>0.023625</td>\n",
       "      <td>-0.003782</td>\n",
       "      <td>0.008867</td>\n",
       "      <td>-0.008163</td>\n",
       "      <td>0.018607</td>\n",
       "      <td>-0.001350</td>\n",
       "      <td>0.015410</td>\n",
       "      <td>0.015413</td>\n",
       "      <td>0.018651</td>\n",
       "      <td>0.020625</td>\n",
       "      <td>December 2nd, 2019</td>\n",
       "    </tr>\n",
       "    <tr>\n",
       "      <th>3</th>\n",
       "      <td>3</td>\n",
       "      <td>3 Years</td>\n",
       "      <td>0.022890</td>\n",
       "      <td>-0.003104</td>\n",
       "      <td>0.009352</td>\n",
       "      <td>-0.007725</td>\n",
       "      <td>0.018501</td>\n",
       "      <td>-0.001437</td>\n",
       "      <td>0.015476</td>\n",
       "      <td>0.015696</td>\n",
       "      <td>0.019001</td>\n",
       "      <td>NaN</td>\n",
       "      <td>December 30th, 2019</td>\n",
       "    </tr>\n",
       "    <tr>\n",
       "      <th>4</th>\n",
       "      <td>4</td>\n",
       "      <td>4 Years</td>\n",
       "      <td>0.022692</td>\n",
       "      <td>-0.002281</td>\n",
       "      <td>0.009883</td>\n",
       "      <td>-0.006728</td>\n",
       "      <td>0.018579</td>\n",
       "      <td>-0.001387</td>\n",
       "      <td>0.016134</td>\n",
       "      <td>0.016356</td>\n",
       "      <td>0.019424</td>\n",
       "      <td>NaN</td>\n",
       "      <td>January 30th, 2020</td>\n",
       "    </tr>\n",
       "  </tbody>\n",
       "</table>\n",
       "</div>"
      ],
      "text/plain": [
       "   ID Maturity        US      Euro        UK  Switzerland    Canada     Japan  \\\n",
       "0   0   0 Year  0.000000  0.000000  0.000000     0.000000  0.000000  0.000000   \n",
       "1   1   1 Year  0.024949 -0.004150  0.008589    -0.008367  0.019260 -0.001125   \n",
       "2   2  2 Years  0.023625 -0.003782  0.008867    -0.008163  0.018607 -0.001350   \n",
       "3   3  3 Years  0.022890 -0.003104  0.009352    -0.007725  0.018501 -0.001437   \n",
       "4   4  4 Years  0.022692 -0.002281  0.009883    -0.006728  0.018579 -0.001387   \n",
       "\n",
       "   Australia  New Zealand  Hong Kong  Unnamed: 10                  Date  \n",
       "0   0.000000     0.000000   0.000000          NaN  September 30th, 2019  \n",
       "1   0.016224     0.015871   0.018065     0.023449    October 30th, 2019  \n",
       "2   0.015410     0.015413   0.018651     0.020625    December 2nd, 2019  \n",
       "3   0.015476     0.015696   0.019001          NaN   December 30th, 2019  \n",
       "4   0.016134     0.016356   0.019424          NaN    January 30th, 2020  "
      ]
     },
     "execution_count": 4,
     "metadata": {},
     "output_type": "execute_result"
    }
   ],
   "source": [
    "\n",
    "def valuation_formula(y):\n",
    "    return ql.TARGET().advance(todayDate,y,Months)\n",
    "\n",
    "dfbma['Date'] = dfbma.apply(lambda row: valuation_formula(row['ID']), axis=1)\n",
    "\n",
    "df_bmaScen=dfbma[['ID','Date','US']]\n",
    "dfbma.head()\n"
   ]
  },
  {
   "cell_type": "markdown",
   "metadata": {},
   "source": [
    "# 1.0 Creating a schedule"
   ]
  },
  {
   "cell_type": "code",
   "execution_count": 32,
   "metadata": {},
   "outputs": [],
   "source": [
    "#Schedule generation\n",
    "effective_date = ql.Date(30, 9, 2019)\n",
    "termination_date = ql.Date(30, 9, 2118)\n",
    "tenor = ql.Period(ql.Annual)\n",
    "calendar = ql.UnitedStates()\n",
    "business_convention = ql.Following\n",
    "termination_business_convention = ql.Following\n",
    "date_generation = ql.DateGeneration.Forward\n",
    "end_of_month = True\n",
    "schedule = ql.Schedule(effective_date,\n",
    "                             termination_date,\n",
    "                             tenor,\n",
    "                             calendar,\n",
    "                             business_convention,termination_business_convention,\n",
    "                             date_generation,\n",
    "                             end_of_month)\n",
    "#pd.DataFrame({'date': list(schedule)})"
   ]
  },
  {
   "cell_type": "markdown",
   "metadata": {},
   "source": [
    "# 2.0 Creating a term structure of interest"
   ]
  },
  {
   "cell_type": "code",
   "execution_count": 33,
   "metadata": {},
   "outputs": [],
   "source": [
    "\n",
    "\n",
    "#inputs from dataframe\n",
    "spotRates = dfbma['US'].tolist()[0:100]\n",
    "#dates that are incremented in yearts for the lenght of the term structure\n",
    "#spotDates=[TARGET().advance(todaysDate,n,Years) for n in range(1,101)]\n",
    "spotDates=list(schedule)\n",
    "\n",
    "#dayCount = ql.Thirty360()\n",
    "dayCount=ql.ActualActual()\n",
    "calendar = ql.UnitedStates()\n",
    "interpolation = ql.Linear()\n",
    "compounding = ql.Compounded\n",
    "compoundingFrequency = ql.Annual\n",
    "spotCurve = ql.ZeroCurve(spotDates, spotRates, dayCount, calendar, interpolation,compounding, compoundingFrequency)\n",
    "spotCurveHandle = ql.YieldTermStructureHandle(spotCurve)\n"
   ]
  },
  {
   "cell_type": "code",
   "execution_count": 8,
   "metadata": {},
   "outputs": [],
   "source": [
    "def create_schedule(datetimeStruct):\n",
    "    \n",
    "    __effectiveDate = datetimeStruct.effectiveDate\n",
    "    __terminationDate = datetimeStruct.terminationDate\n",
    "    __tenor = datetimeStruct.tenor\n",
    "    __calendar = datetimeStruct.calendar\n",
    "    __businessConvention = datetimeStruct.businessConvention\n",
    "    __terminationBusinessConvention = datetimeStruct.terminationBusinessConvention\n",
    "    __dateGeneration = datetimeStruct.dateGeneration\n",
    "    __endOfMonth = datetimeStruct.endOfMonth\n",
    "    #creating the schedule\n",
    "    schedule = ql.Schedule(__effectiveDate,\n",
    "                             __terminationDate,\n",
    "                             __tenor,\n",
    "                             __calendar,\n",
    "                             __businessConvention,__terminationBusinessConvention,\n",
    "                             __dateGeneration,\n",
    "                             __endOfMonth)\n",
    "    \n",
    "    return schedule\n",
    "\n",
    "\n",
    "def create_spotCurve(spotValues,schedule,datetimeStruct,intRateStruct):\n",
    "    #spotRates = spotValues.tolist()[0:100]\n",
    "#dates that are incremented in yearts for the lenght of the term structure\n",
    "#spotDates=[TARGET().advance(todaysDate,n,Years) for n in range(1,101)]\n",
    "    spotDates=list(schedule)\n",
    "\n",
    "    #dayCount = ql.Thirty360()\n",
    "    \n",
    "    __calendar = datetimeStruct.calendar\n",
    "    __interpolation = intRateStruct.interpolation\n",
    "    __compounding = intRateStruct.compounding\n",
    "    __compoundingFrequency = intRateStruct.compoundingFrequency\n",
    "    __dayCount=intRateStruct.dayCount\n",
    "    spotCurve = ql.ZeroCurve(spotDates, spotValues, __dayCount, __calendar, __interpolation,__compounding, __compoundingFrequency)\n",
    "    spotCurveHandle = ql.YieldTermStructureHandle(spotCurve)\n",
    "    return spotCurve\n"
   ]
  },
  {
   "cell_type": "markdown",
   "metadata": {},
   "source": [
    "## 2.1 Obtaining forward rates from term structure of interest"
   ]
  },
  {
   "cell_type": "code",
   "execution_count": 5,
   "metadata": {},
   "outputs": [
    {
     "ename": "NameError",
     "evalue": "name 'spotCurveHandle' is not defined",
     "output_type": "error",
     "traceback": [
      "\u001b[0;31m---------------------------------------------------------------------------\u001b[0m",
      "\u001b[0;31mNameError\u001b[0m                                 Traceback (most recent call last)",
      "\u001b[0;32m<ipython-input-5-ae9df796fa3b>\u001b[0m in \u001b[0;36m<module>\u001b[0;34m\u001b[0m\n\u001b[0;32m----> 1\u001b[0;31m \u001b[0mspotCurveHandle\u001b[0m\u001b[0;34m.\u001b[0m\u001b[0mforwardRate\u001b[0m\u001b[0;34m(\u001b[0m\u001b[0mql\u001b[0m\u001b[0;34m.\u001b[0m\u001b[0mDate\u001b[0m\u001b[0;34m(\u001b[0m\u001b[0;36m30\u001b[0m\u001b[0;34m,\u001b[0m \u001b[0;36m9\u001b[0m\u001b[0;34m,\u001b[0m \u001b[0;36m2020\u001b[0m\u001b[0;34m)\u001b[0m\u001b[0;34m,\u001b[0m\u001b[0mql\u001b[0m\u001b[0;34m.\u001b[0m\u001b[0mDate\u001b[0m\u001b[0;34m(\u001b[0m\u001b[0;36m30\u001b[0m\u001b[0;34m,\u001b[0m \u001b[0;36m9\u001b[0m\u001b[0;34m,\u001b[0m \u001b[0;36m2021\u001b[0m\u001b[0;34m)\u001b[0m\u001b[0;34m,\u001b[0m\u001b[0mql\u001b[0m\u001b[0;34m.\u001b[0m\u001b[0mActualActual\u001b[0m\u001b[0;34m(\u001b[0m\u001b[0;34m)\u001b[0m\u001b[0;34m,\u001b[0m\u001b[0mql\u001b[0m\u001b[0;34m.\u001b[0m\u001b[0mCompounded\u001b[0m\u001b[0;34m)\u001b[0m\u001b[0;34m.\u001b[0m\u001b[0mrate\u001b[0m\u001b[0;34m(\u001b[0m\u001b[0;34m)\u001b[0m\u001b[0;34m\u001b[0m\u001b[0;34m\u001b[0m\u001b[0m\n\u001b[0m",
      "\u001b[0;31mNameError\u001b[0m: name 'spotCurveHandle' is not defined"
     ]
    }
   ],
   "source": [
    "spotCurveHandle.forwardRate(ql.Date(30, 9, 2020),ql.Date(30, 9, 2021),ql.ActualActual(),ql.Compounded).rate()"
   ]
  },
  {
   "cell_type": "markdown",
   "metadata": {},
   "source": [
    "## 3.0 implied term structure method"
   ]
  },
  {
   "cell_type": "code",
   "execution_count": 8,
   "metadata": {},
   "outputs": [
    {
     "data": {
      "text/plain": [
       "0.02230028720965982"
      ]
     },
     "execution_count": 8,
     "metadata": {},
     "output_type": "execute_result"
    }
   ],
   "source": [
    "#implied forward curve\n",
    "impl=ql.ImpliedTermStructure(spotCurveHandle,TARGET().advance(todayDate,1,Years))\n",
    "impl.zeroRate(1,ql.Compounded).rate()"
   ]
  },
  {
   "cell_type": "markdown",
   "metadata": {},
   "source": [
    "## 4.0 term structure with various spreads for KRD "
   ]
  },
  {
   "cell_type": "code",
   "execution_count": 19,
   "metadata": {},
   "outputs": [
    {
     "data": {
      "text/html": [
       "<div>\n",
       "<style scoped>\n",
       "    .dataframe tbody tr th:only-of-type {\n",
       "        vertical-align: middle;\n",
       "    }\n",
       "\n",
       "    .dataframe tbody tr th {\n",
       "        vertical-align: top;\n",
       "    }\n",
       "\n",
       "    .dataframe thead th {\n",
       "        text-align: right;\n",
       "    }\n",
       "</style>\n",
       "<table border=\"1\" class=\"dataframe\">\n",
       "  <thead>\n",
       "    <tr style=\"text-align: right;\">\n",
       "      <th></th>\n",
       "      <th>Date</th>\n",
       "      <th>base</th>\n",
       "    </tr>\n",
       "  </thead>\n",
       "  <tbody>\n",
       "    <tr>\n",
       "      <th>0</th>\n",
       "      <td>September 30th, 2019</td>\n",
       "      <td>0.000002</td>\n",
       "    </tr>\n",
       "    <tr>\n",
       "      <th>1</th>\n",
       "      <td>September 30th, 2020</td>\n",
       "      <td>0.024949</td>\n",
       "    </tr>\n",
       "    <tr>\n",
       "      <th>2</th>\n",
       "      <td>September 30th, 2021</td>\n",
       "      <td>0.023625</td>\n",
       "    </tr>\n",
       "    <tr>\n",
       "      <th>3</th>\n",
       "      <td>September 30th, 2022</td>\n",
       "      <td>0.022890</td>\n",
       "    </tr>\n",
       "    <tr>\n",
       "      <th>4</th>\n",
       "      <td>September 29th, 2023</td>\n",
       "      <td>0.022692</td>\n",
       "    </tr>\n",
       "  </tbody>\n",
       "</table>\n",
       "</div>"
      ],
      "text/plain": [
       "                   Date      base\n",
       "0  September 30th, 2019  0.000002\n",
       "1  September 30th, 2020  0.024949\n",
       "2  September 30th, 2021  0.023625\n",
       "3  September 30th, 2022  0.022890\n",
       "4  September 29th, 2023  0.022692"
      ]
     },
     "execution_count": 19,
     "metadata": {},
     "output_type": "execute_result"
    }
   ],
   "source": [
    "spreads = [ ql.SimpleQuote(0.0) for n in spotDates ]\n",
    "base=bma.extract_info_from_curve(todayDate,spotCurve,spreads,[\"Date\",'base'],spotCurve)\n",
    "base.head()"
   ]
  },
  {
   "cell_type": "markdown",
   "metadata": {},
   "source": [
    "### 4.1: Test to show that adding 0 spreads equal the original term strucure "
   ]
  },
  {
   "cell_type": "code",
   "execution_count": 7,
   "metadata": {},
   "outputs": [
    {
     "data": {
      "text/plain": [
       "0.0"
      ]
     },
     "execution_count": 7,
     "metadata": {},
     "output_type": "execute_result"
    }
   ],
   "source": [
    "#implied forward curve from base\n",
    "yearsInFuture=0\n",
    "impl=ql.ImpliedTermStructure(spotCurveHandle,TARGET().advance(todayDate,yearsInFuture,Years))\n",
    "impl.zeroRate(1,ql.Compounded).rate()\n",
    "\n",
    "#spreads \n",
    "spreads = [ ql.SimpleQuote(0.0) for n in spotDates ] # null spreads to begin\n",
    "ScenarioCurve = ql.SpreadedLinearZeroInterpolatedTermStructure(ql.YieldTermStructureHandle(spotCurve),[ql.QuoteHandle(q) for q in spreads],spotDates)\n",
    "\n",
    "\n",
    "scenHandle=ql.YieldTermStructureHandle(ScenarioCurve)\n",
    "scenImpl=ql.ImpliedTermStructure(scenHandle,TARGET().advance(todayDate,yearsInFuture,Years))\n",
    "\n",
    "#cost function=\n",
    "scenImpl.zeroRate(1,ql.Compounded).rate()-impl.zeroRate(1,ql.Compounded).rate()"
   ]
  },
  {
   "cell_type": "markdown",
   "metadata": {},
   "source": [
    "## 5.0 discount as simple cash flow"
   ]
  },
  {
   "cell_type": "code",
   "execution_count": 11,
   "metadata": {},
   "outputs": [
    {
     "data": {
      "text/plain": [
       "1.0249667743731472"
      ]
     },
     "execution_count": 11,
     "metadata": {},
     "output_type": "execute_result"
    }
   ],
   "source": [
    "cf1=ql.SimpleCashFlow(1000,ql.Date(30, 9, 2020))\n",
    "cf2=ql.SimpleCashFlow(1000,ql.Date(30, 6, 2022))\n",
    "cf3=ql.SimpleCashFlow(1000,ql.Date(30, 6, 2023))\n",
    "cflist=[cf1,cf2,cf3]\n",
    "\n",
    "1/(cf1.amount()*spotCurveHandle.discount(cf1.date()))*1000"
   ]
  },
  {
   "cell_type": "markdown",
   "metadata": {},
   "source": [
    "### 5.1 discount multiple cash flows "
   ]
  },
  {
   "cell_type": "code",
   "execution_count": 12,
   "metadata": {},
   "outputs": [
    {
     "data": {
      "text/plain": [
       "1.0400283964306034"
      ]
     },
     "execution_count": 12,
     "metadata": {},
     "output_type": "execute_result"
    }
   ],
   "source": [
    "calc_date = Date(20, 6, 2019)\n",
    "risk_free_rate = 0.01\n",
    "\n",
    "ir=ql.InterestRate(0.04,dayCount,ql.Compounded,ql.Annual)\n",
    "\n",
    "discount_curve = YieldTermStructureHandle(\n",
    "                    FlatForward(calc_date, risk_free_rate, ActualActual()))\n",
    "\n",
    "\n",
    "cfZ=ql.SimpleCashFlow(1,ql.Date(30, 9, 2020))\n",
    "1/ql.CashFlows.npv([cfZ],spotCurveHandle,True,ql.Date(30, 9, 2019))\n",
    "1/ql.CashFlows.npv([cfZ],ir,True,ql.Date(30, 9, 2019))"
   ]
  },
  {
   "cell_type": "markdown",
   "metadata": {},
   "source": [
    "## 6.0 Matching assuming its forward rates "
   ]
  },
  {
   "cell_type": "code",
   "execution_count": 12,
   "metadata": {},
   "outputs": [],
   "source": [
    "dateStruct=bma.DateTimeStruct()\n",
    "intStruct=bma.IntRatesStruct()\n",
    "testSchedule=create_schedule(dateStruct)\n",
    "spotValues=dfbma['US'].tolist()[0:100]\n",
    "spotT=create_spotCurve(spotValues,testSchedule,dateStruct,intStruct)"
   ]
  },
  {
   "cell_type": "code",
   "execution_count": 19,
   "metadata": {},
   "outputs": [],
   "source": [
    "spreadT=deltas['scen2']\n",
    "#spotT=spotCurve\n",
    "mynewCurve=bma.calibrate_term_structure(spotT,spreadT,todayDate)\n"
   ]
  },
  {
   "cell_type": "code",
   "execution_count": 14,
   "metadata": {},
   "outputs": [
    {
     "data": {
      "text/html": [
       "<div>\n",
       "<style scoped>\n",
       "    .dataframe tbody tr th:only-of-type {\n",
       "        vertical-align: middle;\n",
       "    }\n",
       "\n",
       "    .dataframe tbody tr th {\n",
       "        vertical-align: top;\n",
       "    }\n",
       "\n",
       "    .dataframe thead th {\n",
       "        text-align: right;\n",
       "    }\n",
       "</style>\n",
       "<table border=\"1\" class=\"dataframe\">\n",
       "  <thead>\n",
       "    <tr style=\"text-align: right;\">\n",
       "      <th></th>\n",
       "      <th>date</th>\n",
       "      <th>spot_rate</th>\n",
       "    </tr>\n",
       "  </thead>\n",
       "  <tbody>\n",
       "    <tr>\n",
       "      <th>0</th>\n",
       "      <td>September 30th, 2019</td>\n",
       "      <td>0.000002</td>\n",
       "    </tr>\n",
       "    <tr>\n",
       "      <th>1</th>\n",
       "      <td>September 30th, 2020</td>\n",
       "      <td>0.024949</td>\n",
       "    </tr>\n",
       "    <tr>\n",
       "      <th>2</th>\n",
       "      <td>September 30th, 2021</td>\n",
       "      <td>0.023625</td>\n",
       "    </tr>\n",
       "    <tr>\n",
       "      <th>3</th>\n",
       "      <td>September 30th, 2022</td>\n",
       "      <td>0.022890</td>\n",
       "    </tr>\n",
       "    <tr>\n",
       "      <th>4</th>\n",
       "      <td>September 29th, 2023</td>\n",
       "      <td>0.022692</td>\n",
       "    </tr>\n",
       "  </tbody>\n",
       "</table>\n",
       "</div>"
      ],
      "text/plain": [
       "                   date  spot_rate\n",
       "0  September 30th, 2019   0.000002\n",
       "1  September 30th, 2020   0.024949\n",
       "2  September 30th, 2021   0.023625\n",
       "3  September 30th, 2022   0.022890\n",
       "4  September 29th, 2023   0.022692"
      ]
     },
     "execution_count": 14,
     "metadata": {},
     "output_type": "execute_result"
    }
   ],
   "source": [
    "datesX=list(spotT.dates())\n",
    "test=bma.extract_info(spotT,datesX,todayDate)\n",
    "test.head()"
   ]
  },
  {
   "cell_type": "markdown",
   "metadata": {},
   "source": [
    "### 6.1 Loop to create all scenarios"
   ]
  },
  {
   "cell_type": "code",
   "execution_count": 17,
   "metadata": {},
   "outputs": [
    {
     "data": {
      "text/html": [
       "<div>\n",
       "<style scoped>\n",
       "    .dataframe tbody tr th:only-of-type {\n",
       "        vertical-align: middle;\n",
       "    }\n",
       "\n",
       "    .dataframe tbody tr th {\n",
       "        vertical-align: top;\n",
       "    }\n",
       "\n",
       "    .dataframe thead th {\n",
       "        text-align: right;\n",
       "    }\n",
       "</style>\n",
       "<table border=\"1\" class=\"dataframe\">\n",
       "  <thead>\n",
       "    <tr style=\"text-align: right;\">\n",
       "      <th></th>\n",
       "      <th>scen2</th>\n",
       "      <th>scen8</th>\n",
       "    </tr>\n",
       "    <tr>\n",
       "      <th>date</th>\n",
       "      <th></th>\n",
       "      <th></th>\n",
       "    </tr>\n",
       "  </thead>\n",
       "  <tbody>\n",
       "    <tr>\n",
       "      <th>September 30th, 2019</th>\n",
       "      <td>0.000003</td>\n",
       "      <td>0.000002</td>\n",
       "    </tr>\n",
       "    <tr>\n",
       "      <th>September 30th, 2020</th>\n",
       "      <td>0.026450</td>\n",
       "      <td>0.024949</td>\n",
       "    </tr>\n",
       "    <tr>\n",
       "      <th>September 30th, 2021</th>\n",
       "      <td>0.025875</td>\n",
       "      <td>0.023625</td>\n",
       "    </tr>\n",
       "    <tr>\n",
       "      <th>September 30th, 2022</th>\n",
       "      <td>0.025890</td>\n",
       "      <td>0.022890</td>\n",
       "    </tr>\n",
       "    <tr>\n",
       "      <th>September 29th, 2023</th>\n",
       "      <td>0.026440</td>\n",
       "      <td>0.022692</td>\n",
       "    </tr>\n",
       "  </tbody>\n",
       "</table>\n",
       "</div>"
      ],
      "text/plain": [
       "                         scen2     scen8\n",
       "date                                    \n",
       "September 30th, 2019  0.000003  0.000002\n",
       "September 30th, 2020  0.026450  0.024949\n",
       "September 30th, 2021  0.025875  0.023625\n",
       "September 30th, 2022  0.025890  0.022890\n",
       "September 29th, 2023  0.026440  0.022692"
      ]
     },
     "execution_count": 17,
     "metadata": {},
     "output_type": "execute_result"
    }
   ],
   "source": [
    "\n",
    "listScen=['scen2','scen8']\n",
    "\n",
    "dfList=[]\n",
    "for scen in listScen:\n",
    "    spreadT=deltas[scen]\n",
    "    #spotT=spotCurve\n",
    "    mynewCurve=bma.calibrate_term_structure(spotT,spreadT,todayDate)\n",
    "    datesX=list(spotT.dates())\n",
    "    test=bma.extract_info(mynewCurve,datesX,todayDate,scen)\n",
    "    dfList.append(test)\n",
    "\n",
    "#merge all into one\n",
    "dfs = [df.set_index('date') for df in dfList]\n",
    "finalDf=dfs[0].join(dfs[1:])    \n",
    "finalDf.head()"
   ]
  },
  {
   "cell_type": "code",
   "execution_count": 20,
   "metadata": {},
   "outputs": [
    {
     "name": "stdout",
     "output_type": "stream",
     "text": [
      "1 | 0.0249 | 0.0264 | 0.0015000121008466039\n",
      "2 | 0.0223 | 0.0253 | 0.0030000002257224434\n",
      "3 | 0.0214 | 0.0259 | 0.004500044579272888\n",
      "4 | 0.0221 | 0.0281 | 0.0059998827038365565\n",
      "5 | 0.0231 | 0.0306 | 0.007512318182882671\n",
      "6 | 0.0242 | 0.0332 | 0.008999953488190604\n",
      "7 | 0.025 | 0.0355 | 0.010500004183660483\n",
      "8 | 0.0258 | 0.0378 | 0.012000017169523591\n",
      "9 | 0.0265 | 0.04 | 0.013499057903816336\n",
      "10 | 0.0273 | 0.0423 | 0.01499943143865079\n",
      "11 | 0.0278 | 0.0428 | 0.015007056633050686\n",
      "12 | 0.0279 | 0.0429 | 0.015000000013144277\n",
      "13 | 0.0282 | 0.0432 | 0.015000000014868897\n",
      "14 | 0.0283 | 0.0433 | 0.014999279262962295\n",
      "15 | 0.0277 | 0.0427 | 0.01499588189522294\n",
      "16 | 0.0282 | 0.0432 | 0.014996206076838936\n",
      "17 | 0.0277 | 0.0427 | 0.015003143249747053\n",
      "18 | 0.0278 | 0.0428 | 0.014998848756671457\n",
      "19 | 0.0275 | 0.0425 | 0.01500000003101265\n",
      "20 | 0.0273 | 0.0423 | 0.015000000034764538\n",
      "21 | 0.0268 | 0.0418 | 0.0149865499204207\n",
      "22 | 0.0268 | 0.0418 | 0.01500144443976148\n",
      "23 | 0.0267 | 0.0417 | 0.015000000048459805\n",
      "24 | 0.0267 | 0.0417 | 0.015000000053950302\n",
      "25 | 0.0266 | 0.0416 | 0.01500000005963198\n",
      "26 | 0.0265 | 0.0415 | 0.014983119785627386\n",
      "27 | 0.0264 | 0.0414 | 0.014986799895776004\n",
      "28 | 0.0263 | 0.0413 | 0.015001001182260776\n",
      "29 | 0.0261 | 0.0411 | 0.015000000089848697\n",
      "30 | 0.026 | 0.041 | 0.01499638841692974\n",
      "31 | 0.0269 | 0.0419 | 0.015000000110076739\n",
      "32 | 0.0283 | 0.0433 | 0.01498266064375331\n",
      "33 | 0.0296 | 0.0446 | 0.01500043940164919\n",
      "34 | 0.0311 | 0.046 | 0.014995341309686161\n",
      "35 | 0.0325 | 0.0475 | 0.015000000164319127\n",
      "36 | 0.0339 | 0.0489 | 0.015000000181629725\n",
      "37 | 0.0353 | 0.0503 | 0.014980535489804492\n",
      "38 | 0.0368 | 0.0517 | 0.014967595873986994\n",
      "39 | 0.038 | 0.053 | 0.015000514570271184\n",
      "40 | 0.0394 | 0.0544 | 0.015000000272112235\n",
      "41 | 0.0407 | 0.0557 | 0.015000000299071559\n",
      "42 | 0.042 | 0.057 | 0.014991851067664097\n",
      "43 | 0.0432 | 0.0581 | 0.01496325078503924\n",
      "44 | 0.0443 | 0.0592 | 0.014963834330588455\n",
      "45 | 0.0451 | 0.0601 | 0.015000416141690565\n",
      "46 | 0.0461 | 0.0611 | 0.01499033358838342\n",
      "47 | 0.0469 | 0.0619 | 0.015000000546541381\n",
      "48 | 0.0476 | 0.0626 | 0.01500000060189044\n",
      "49 | 0.0482 | 0.0631 | 0.014918036092702813\n",
      "50 | 0.0484 | 0.0634 | 0.015000274641006062\n",
      "51 | 0.0487 | 0.0637 | 0.015000000802775748\n",
      "52 | 0.0488 | 0.0638 | 0.015000000880271536\n",
      "53 | 0.0486 | 0.0636 | 0.015000000958662829\n",
      "54 | 0.0484 | 0.0633 | 0.014923475536814834\n",
      "55 | 0.0479 | 0.0628 | 0.014939995168250952\n",
      "56 | 0.0471 | 0.0621 | 0.015000250703695261\n",
      "57 | 0.0462 | 0.0612 | 0.015000001365985893\n",
      "58 | 0.0451 | 0.06 | 0.014984158175065376\n",
      "59 | 0.0436 | 0.0586 | 0.015000001616348957\n",
      "60 | 0.042 | 0.057 | 0.014931445729362336\n",
      "61 | 0.042 | 0.057 | 0.015000050266118725\n",
      "62 | 0.042 | 0.057 | 0.014982070443707807\n",
      "63 | 0.042 | 0.057 | 0.015000002214075714\n",
      "64 | 0.042 | 0.057 | 0.015000002388948053\n",
      "65 | 0.042 | 0.057 | 0.01493643430568059\n",
      "66 | 0.042 | 0.0569 | 0.014894307733774426\n",
      "67 | 0.042 | 0.057 | 0.015000176354441175\n",
      "68 | 0.042 | 0.057 | 0.01500000323873274\n",
      "69 | 0.042 | 0.057 | 0.015000003462667832\n",
      "70 | 0.042 | 0.057 | 0.014975702801629964\n",
      "71 | 0.042 | 0.0569 | 0.01489622504718624\n",
      "72 | 0.042 | 0.0569 | 0.014897976972711113\n",
      "73 | 0.042 | 0.057 | 0.01500011497680176\n",
      "74 | 0.042 | 0.057 | 0.014973151750042213\n",
      "75 | 0.042 | 0.057 | 0.015000005355876533\n",
      "76 | 0.042 | 0.057 | 0.015000005730732013\n",
      "77 | 0.042 | 0.0568 | 0.014790427458469368\n",
      "78 | 0.042 | 0.057 | 0.015000118368305948\n",
      "79 | 0.042 | 0.057 | 0.015000007055120168\n",
      "80 | 0.042 | 0.057 | 0.015000007530585613\n",
      "81 | 0.042 | 0.057 | 0.015000008033569046\n",
      "82 | 0.042 | 0.057 | 0.01500000856540451\n",
      "83 | 0.042 | 0.0569 | 0.014859266428047135\n",
      "84 | 0.042 | 0.0569 | 0.01486164722461969\n",
      "85 | 0.042 | 0.057 | 0.015000058620772139\n",
      "86 | 0.042 | 0.057 | 0.014963690151226894\n",
      "87 | 0.042 | 0.057 | 0.015000011849479744\n",
      "88 | 0.042 | 0.057 | 0.015000012593102907\n",
      "89 | 0.042 | 0.0567 | 0.014721188502886395\n",
      "90 | 0.042 | 0.057 | 0.015000098422678576\n",
      "91 | 0.042 | 0.057 | 0.015000015227153884\n",
      "92 | 0.042 | 0.057 | 0.015000016150281903\n",
      "93 | 0.042 | 0.057 | 0.015000017029368484\n",
      "94 | 0.042 | 0.0568 | 0.014765973193969328\n",
      "95 | 0.042 | 0.0568 | 0.014816425091849883\n",
      "96 | 0.042 | 0.057 | 0.015000105498710115\n",
      "97 | 0.042 | 0.057 | 0.015000021730556812\n",
      "98 | 0.042 | 0.057 | 0.014951965090971742\n",
      "99 | 0.042 | 0.057 | 0.015000024470991802\n"
     ]
    }
   ],
   "source": [
    "#to test that all time periods for the next 75 years are within 5 basis point of the target\n",
    "baseCurveHandle = ql.YieldTermStructureHandle(spotT)\n",
    "#spreads[22].setValue(-0.011828281330298842*0.995)\n",
    "#spotCurveHandle.forwardRate(ql.Date(30, 9, 2020),ql.Date(30, 9, 2021),ql.Thirty360(),ql.Compounded).rate()\n",
    "scenHandle=ql.YieldTermStructureHandle(mynewCurve)\n",
    "for year in range(1,100):\n",
    "    #date1=ql.Date(30, 9, 2019+year-1)\n",
    "    date1=TARGET().advance(todayDate,year-1,Years)\n",
    "    #date2=ql.Date(30, 9, 2019+year)\n",
    "    date2=datesX[year]\n",
    "    baseImpl=ql.ImpliedTermStructure(baseCurveHandle,date1)\n",
    "    scenImpl=ql.ImpliedTermStructure(scenHandle,date1)\n",
    "    a=baseImpl.zeroRate(1,ql.Compounded).rate()\n",
    "    \n",
    "    b=scenImpl.zeroRate(1,ql.Compounded).rate()\n",
    "    \n",
    "    #print(10000*abs(abs((b-a))-deltas['scen2'][min(year,30)]))\n",
    "    #print(year,' ',(b-a-deltas['scen2'][min(year,30)])*10000)\n",
    "    print(year,'|',round(a,4),'|',round(b,4),'|', b-a)\n",
    "    #print(spreads[26].value)"
   ]
  },
  {
   "cell_type": "markdown",
   "metadata": {},
   "source": [
    "## 7.0 Match according to spot rates"
   ]
  },
  {
   "cell_type": "code",
   "execution_count": 56,
   "metadata": {},
   "outputs": [
    {
     "name": "stdout",
     "output_type": "stream",
     "text": [
      "0.013099427947614402\n"
     ]
    }
   ],
   "source": [
    "\n",
    "print(spreads[9].value())\n",
    "todaysDate = ql.Date(30, 9, 2019)\n",
    "myGuess=0.03\n",
    "datesX=list(spotCurve.dates())\n",
    "\n",
    "#for t in range(1,len([spotCurve.dates()])):\n",
    "for t in range(1,85):   \n",
    "    #t=t+1\n",
    "    indx=t\n",
    "    if t>98:\n",
    "        break\n",
    "    target=deltas['scen2'][min(t,30)]\n",
    "    spotDate=datesX[t]\n",
    "    x=newton(bma.spotRateMatch,myGuess,args=(ScenCurve,baseCurve,todayDate,spotDate,spreads,target,indx))\n",
    "\n"
   ]
  },
  {
   "cell_type": "code",
   "execution_count": 58,
   "metadata": {},
   "outputs": [
    {
     "name": "stdout",
     "output_type": "stream",
     "text": [
      "100\n",
      "0.002926475782581509\n"
     ]
    },
    {
     "data": {
      "text/html": [
       "<div>\n",
       "<style scoped>\n",
       "    .dataframe tbody tr th:only-of-type {\n",
       "        vertical-align: middle;\n",
       "    }\n",
       "\n",
       "    .dataframe tbody tr th {\n",
       "        vertical-align: top;\n",
       "    }\n",
       "\n",
       "    .dataframe thead th {\n",
       "        text-align: right;\n",
       "    }\n",
       "</style>\n",
       "<table border=\"1\" class=\"dataframe\">\n",
       "  <thead>\n",
       "    <tr style=\"text-align: right;\">\n",
       "      <th></th>\n",
       "      <th>Date</th>\n",
       "      <th>base</th>\n",
       "      <th>test</th>\n",
       "      <th>delta</th>\n",
       "    </tr>\n",
       "  </thead>\n",
       "  <tbody>\n",
       "    <tr>\n",
       "      <th>0</th>\n",
       "      <td>September 30th, 2019</td>\n",
       "      <td>0.000002</td>\n",
       "      <td>0.000003</td>\n",
       "      <td>1.462456e-07</td>\n",
       "    </tr>\n",
       "    <tr>\n",
       "      <th>1</th>\n",
       "      <td>September 30th, 2020</td>\n",
       "      <td>0.024949</td>\n",
       "      <td>0.026450</td>\n",
       "      <td>1.501072e-03</td>\n",
       "    </tr>\n",
       "    <tr>\n",
       "      <th>2</th>\n",
       "      <td>September 30th, 2021</td>\n",
       "      <td>0.023625</td>\n",
       "      <td>0.026625</td>\n",
       "      <td>3.000001e-03</td>\n",
       "    </tr>\n",
       "    <tr>\n",
       "      <th>3</th>\n",
       "      <td>September 30th, 2022</td>\n",
       "      <td>0.022890</td>\n",
       "      <td>0.027390</td>\n",
       "      <td>4.500001e-03</td>\n",
       "    </tr>\n",
       "    <tr>\n",
       "      <th>4</th>\n",
       "      <td>September 29th, 2023</td>\n",
       "      <td>0.022692</td>\n",
       "      <td>0.028692</td>\n",
       "      <td>6.000058e-03</td>\n",
       "    </tr>\n",
       "    <tr>\n",
       "      <th>5</th>\n",
       "      <td>September 30th, 2024</td>\n",
       "      <td>0.022773</td>\n",
       "      <td>0.030274</td>\n",
       "      <td>7.501043e-03</td>\n",
       "    </tr>\n",
       "    <tr>\n",
       "      <th>6</th>\n",
       "      <td>September 30th, 2025</td>\n",
       "      <td>0.023009</td>\n",
       "      <td>0.032009</td>\n",
       "      <td>9.000000e-03</td>\n",
       "    </tr>\n",
       "    <tr>\n",
       "      <th>7</th>\n",
       "      <td>September 30th, 2026</td>\n",
       "      <td>0.023296</td>\n",
       "      <td>0.033796</td>\n",
       "      <td>1.050000e-02</td>\n",
       "    </tr>\n",
       "    <tr>\n",
       "      <th>8</th>\n",
       "      <td>September 30th, 2027</td>\n",
       "      <td>0.023606</td>\n",
       "      <td>0.035606</td>\n",
       "      <td>1.200000e-02</td>\n",
       "    </tr>\n",
       "    <tr>\n",
       "      <th>9</th>\n",
       "      <td>September 29th, 2028</td>\n",
       "      <td>0.023929</td>\n",
       "      <td>0.037430</td>\n",
       "      <td>1.350112e-02</td>\n",
       "    </tr>\n",
       "    <tr>\n",
       "      <th>10</th>\n",
       "      <td>September 28th, 2029</td>\n",
       "      <td>0.024263</td>\n",
       "      <td>0.039264</td>\n",
       "      <td>1.500011e-02</td>\n",
       "    </tr>\n",
       "    <tr>\n",
       "      <th>11</th>\n",
       "      <td>September 30th, 2030</td>\n",
       "      <td>0.024587</td>\n",
       "      <td>0.039587</td>\n",
       "      <td>1.500000e-02</td>\n",
       "    </tr>\n",
       "    <tr>\n",
       "      <th>12</th>\n",
       "      <td>September 30th, 2031</td>\n",
       "      <td>0.024867</td>\n",
       "      <td>0.039867</td>\n",
       "      <td>1.500000e-02</td>\n",
       "    </tr>\n",
       "    <tr>\n",
       "      <th>13</th>\n",
       "      <td>September 30th, 2032</td>\n",
       "      <td>0.025121</td>\n",
       "      <td>0.040121</td>\n",
       "      <td>1.500000e-02</td>\n",
       "    </tr>\n",
       "    <tr>\n",
       "      <th>14</th>\n",
       "      <td>September 30th, 2033</td>\n",
       "      <td>0.025350</td>\n",
       "      <td>0.040350</td>\n",
       "      <td>1.500000e-02</td>\n",
       "    </tr>\n",
       "    <tr>\n",
       "      <th>15</th>\n",
       "      <td>September 29th, 2034</td>\n",
       "      <td>0.025507</td>\n",
       "      <td>0.040507</td>\n",
       "      <td>1.500000e-02</td>\n",
       "    </tr>\n",
       "    <tr>\n",
       "      <th>16</th>\n",
       "      <td>September 28th, 2035</td>\n",
       "      <td>0.025676</td>\n",
       "      <td>0.040676</td>\n",
       "      <td>1.500000e-02</td>\n",
       "    </tr>\n",
       "    <tr>\n",
       "      <th>17</th>\n",
       "      <td>September 30th, 2036</td>\n",
       "      <td>0.025795</td>\n",
       "      <td>0.040795</td>\n",
       "      <td>1.500000e-02</td>\n",
       "    </tr>\n",
       "    <tr>\n",
       "      <th>18</th>\n",
       "      <td>September 30th, 2037</td>\n",
       "      <td>0.025907</td>\n",
       "      <td>0.040907</td>\n",
       "      <td>1.500000e-02</td>\n",
       "    </tr>\n",
       "    <tr>\n",
       "      <th>19</th>\n",
       "      <td>September 30th, 2038</td>\n",
       "      <td>0.025991</td>\n",
       "      <td>0.040991</td>\n",
       "      <td>1.500000e-02</td>\n",
       "    </tr>\n",
       "  </tbody>\n",
       "</table>\n",
       "</div>"
      ],
      "text/plain": [
       "                    Date      base      test         delta\n",
       "0   September 30th, 2019  0.000002  0.000003  1.462456e-07\n",
       "1   September 30th, 2020  0.024949  0.026450  1.501072e-03\n",
       "2   September 30th, 2021  0.023625  0.026625  3.000001e-03\n",
       "3   September 30th, 2022  0.022890  0.027390  4.500001e-03\n",
       "4   September 29th, 2023  0.022692  0.028692  6.000058e-03\n",
       "5   September 30th, 2024  0.022773  0.030274  7.501043e-03\n",
       "6   September 30th, 2025  0.023009  0.032009  9.000000e-03\n",
       "7   September 30th, 2026  0.023296  0.033796  1.050000e-02\n",
       "8   September 30th, 2027  0.023606  0.035606  1.200000e-02\n",
       "9   September 29th, 2028  0.023929  0.037430  1.350112e-02\n",
       "10  September 28th, 2029  0.024263  0.039264  1.500011e-02\n",
       "11  September 30th, 2030  0.024587  0.039587  1.500000e-02\n",
       "12  September 30th, 2031  0.024867  0.039867  1.500000e-02\n",
       "13  September 30th, 2032  0.025121  0.040121  1.500000e-02\n",
       "14  September 30th, 2033  0.025350  0.040350  1.500000e-02\n",
       "15  September 29th, 2034  0.025507  0.040507  1.500000e-02\n",
       "16  September 28th, 2035  0.025676  0.040676  1.500000e-02\n",
       "17  September 30th, 2036  0.025795  0.040795  1.500000e-02\n",
       "18  September 30th, 2037  0.025907  0.040907  1.500000e-02\n",
       "19  September 30th, 2038  0.025991  0.040991  1.500000e-02"
      ]
     },
     "execution_count": 58,
     "metadata": {},
     "output_type": "execute_result"
    }
   ],
   "source": [
    "df2=extractInfoFromCurve(todaysDate,spotCurve,spreads,[\"Date\",colname],baseCurve)\n",
    "    \n",
    "df_bmaScenY=base.merge(df2,on=['Date'], suffixes=('','_lag'), how='left')\n",
    "df_bmaScenY['delta']=df_bmaScenY['test']-df_bmaScenY['base']\n",
    "\n",
    "print(spreads[2].value())\n",
    "df_bmaScenY.head(20)"
   ]
  },
  {
   "cell_type": "code",
   "execution_count": 16,
   "metadata": {},
   "outputs": [
    {
     "data": {
      "text/plain": [
       "196.36363636363635"
      ]
     },
     "execution_count": 16,
     "metadata": {},
     "output_type": "execute_result"
    }
   ],
   "source": [
    "12/22*360"
   ]
  },
  {
   "cell_type": "code",
   "execution_count": null,
   "metadata": {},
   "outputs": [],
   "source": []
  }
 ],
 "metadata": {
  "kernelspec": {
   "display_name": "Python 3",
   "language": "python",
   "name": "python3"
  },
  "language_info": {
   "codemirror_mode": {
    "name": "ipython",
    "version": 3
   },
   "file_extension": ".py",
   "mimetype": "text/x-python",
   "name": "python",
   "nbconvert_exporter": "python",
   "pygments_lexer": "ipython3",
   "version": "3.7.3"
  }
 },
 "nbformat": 4,
 "nbformat_minor": 2
}
