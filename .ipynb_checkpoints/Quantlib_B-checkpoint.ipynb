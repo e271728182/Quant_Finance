{
 "cells": [
  {
   "cell_type": "markdown",
   "metadata": {},
   "source": [
    "# ReadMe\n"
   ]
  },
  {
   "cell_type": "markdown",
   "metadata": {},
   "source": [
    "<font size=\"4\">This Notebook is a walkthrough of various QuantLib funtionalities commonly used for financial mathematics AND an algorithm to create a time zero term structure of interest satisfying virtually any implied term structure changes via spreads.\n",
    "\n",
    "this Notebook is divided into the following sections:<br><br>\n",
    "\n",
    "__Inputs,Initialization and helper functions__:Section to import libraries, upload required inputs <br>\n",
    "__Section 1.0__: an algorithm to create among other things what is known as the Bermuda Scenarios used for measuring interest rate risk. It essentially creates a time 0 term structure of interest by calibrating spreads between periods so that all implied term structure in future time periods are consistents with the required scenario. <br>\n",
    "By creating such a time 0 curve, all is required after is simply discounting along it as the examples in section 1 to 6 show.\n",
    "\n",
    "<br> __Section 2.0 to 7.0__: Examples of various financial mathematics applications such as creating a term structure of interest and working with its implied forward curves and discounting cash flows along a term structure of interest<br><br>"
   ]
  },
  {
   "cell_type": "markdown",
   "metadata": {},
   "source": [
    "## Inputs, Initialization and helper functions "
   ]
  },
  {
   "cell_type": "code",
   "execution_count": 38,
   "metadata": {},
   "outputs": [],
   "source": [
    "from QuantLib import *\n",
    "import QuantLib as ql\n",
    "import pandas as pd\n",
    "import numpy as np\n",
    "from copy import deepcopy\n",
    "import os \n",
    "from scipy.optimize import newton, root_scalar\n",
    "import quantFin as bma\n",
    "import pymongo as py\n",
    "from dataclasses import dataclass"
   ]
  },
  {
   "cell_type": "code",
   "execution_count": 2,
   "metadata": {},
   "outputs": [],
   "source": [
    "path='/Users/gabounet/Quant_Finance/bma_discount2019Q1.xlsx'\n",
    "todayDate = ql.Date(30, 9, 2019)\n",
    "dfbma=pd.read_excel(path,sheet_name='test')\n",
    "dfbma['US']=dfbma['US']\n",
    "dfbma['US'].head()\n",
    "dfbma.insert(0, 'ID', range(0, len(dfbma)))\n",
    "dfbma['Date']=TARGET().advance(todayDate,0,Years)"
   ]
  },
  {
   "cell_type": "code",
   "execution_count": 6,
   "metadata": {},
   "outputs": [],
   "source": [
    "#this connects to MongoDb which is a document database where assumptions & inputs are stored\n",
    "client=py.MongoClient('mongodb://localhost:27017/')\n",
    "dbt=client.bmaTest\n",
    "deltas=dbt.test.find_one({'abc':'cba'}) #because this is a POC the schema of the documents has not been defined yet "
   ]
  },
  {
   "cell_type": "code",
   "execution_count": 7,
   "metadata": {},
   "outputs": [
    {
     "data": {
      "text/html": [
       "<div>\n",
       "<style scoped>\n",
       "    .dataframe tbody tr th:only-of-type {\n",
       "        vertical-align: middle;\n",
       "    }\n",
       "\n",
       "    .dataframe tbody tr th {\n",
       "        vertical-align: top;\n",
       "    }\n",
       "\n",
       "    .dataframe thead th {\n",
       "        text-align: right;\n",
       "    }\n",
       "</style>\n",
       "<table border=\"1\" class=\"dataframe\">\n",
       "  <thead>\n",
       "    <tr style=\"text-align: right;\">\n",
       "      <th></th>\n",
       "      <th>ID</th>\n",
       "      <th>Maturity</th>\n",
       "      <th>US</th>\n",
       "      <th>Euro</th>\n",
       "      <th>UK</th>\n",
       "      <th>Switzerland</th>\n",
       "      <th>Canada</th>\n",
       "      <th>Japan</th>\n",
       "      <th>Australia</th>\n",
       "      <th>New Zealand</th>\n",
       "      <th>Hong Kong</th>\n",
       "      <th>Unnamed: 10</th>\n",
       "      <th>Date</th>\n",
       "    </tr>\n",
       "  </thead>\n",
       "  <tbody>\n",
       "    <tr>\n",
       "      <th>0</th>\n",
       "      <td>0</td>\n",
       "      <td>0 Year</td>\n",
       "      <td>0.000000</td>\n",
       "      <td>0.000000</td>\n",
       "      <td>0.000000</td>\n",
       "      <td>0.000000</td>\n",
       "      <td>0.000000</td>\n",
       "      <td>0.000000</td>\n",
       "      <td>0.000000</td>\n",
       "      <td>0.000000</td>\n",
       "      <td>0.000000</td>\n",
       "      <td>NaN</td>\n",
       "      <td>September 30th, 2019</td>\n",
       "    </tr>\n",
       "    <tr>\n",
       "      <th>1</th>\n",
       "      <td>1</td>\n",
       "      <td>1 Year</td>\n",
       "      <td>0.024949</td>\n",
       "      <td>-0.004150</td>\n",
       "      <td>0.008589</td>\n",
       "      <td>-0.008367</td>\n",
       "      <td>0.019260</td>\n",
       "      <td>-0.001125</td>\n",
       "      <td>0.016224</td>\n",
       "      <td>0.015871</td>\n",
       "      <td>0.018065</td>\n",
       "      <td>0.023449</td>\n",
       "      <td>September 30th, 2020</td>\n",
       "    </tr>\n",
       "    <tr>\n",
       "      <th>2</th>\n",
       "      <td>2</td>\n",
       "      <td>2 Years</td>\n",
       "      <td>0.023625</td>\n",
       "      <td>-0.003782</td>\n",
       "      <td>0.008867</td>\n",
       "      <td>-0.008163</td>\n",
       "      <td>0.018607</td>\n",
       "      <td>-0.001350</td>\n",
       "      <td>0.015410</td>\n",
       "      <td>0.015413</td>\n",
       "      <td>0.018651</td>\n",
       "      <td>0.020625</td>\n",
       "      <td>September 30th, 2021</td>\n",
       "    </tr>\n",
       "    <tr>\n",
       "      <th>3</th>\n",
       "      <td>3</td>\n",
       "      <td>3 Years</td>\n",
       "      <td>0.022890</td>\n",
       "      <td>-0.003104</td>\n",
       "      <td>0.009352</td>\n",
       "      <td>-0.007725</td>\n",
       "      <td>0.018501</td>\n",
       "      <td>-0.001437</td>\n",
       "      <td>0.015476</td>\n",
       "      <td>0.015696</td>\n",
       "      <td>0.019001</td>\n",
       "      <td>NaN</td>\n",
       "      <td>September 30th, 2022</td>\n",
       "    </tr>\n",
       "    <tr>\n",
       "      <th>4</th>\n",
       "      <td>4</td>\n",
       "      <td>4 Years</td>\n",
       "      <td>0.022692</td>\n",
       "      <td>-0.002281</td>\n",
       "      <td>0.009883</td>\n",
       "      <td>-0.006728</td>\n",
       "      <td>0.018579</td>\n",
       "      <td>-0.001387</td>\n",
       "      <td>0.016134</td>\n",
       "      <td>0.016356</td>\n",
       "      <td>0.019424</td>\n",
       "      <td>NaN</td>\n",
       "      <td>October 2nd, 2023</td>\n",
       "    </tr>\n",
       "  </tbody>\n",
       "</table>\n",
       "</div>"
      ],
      "text/plain": [
       "   ID Maturity        US      Euro        UK  Switzerland    Canada     Japan  \\\n",
       "0   0   0 Year  0.000000  0.000000  0.000000     0.000000  0.000000  0.000000   \n",
       "1   1   1 Year  0.024949 -0.004150  0.008589    -0.008367  0.019260 -0.001125   \n",
       "2   2  2 Years  0.023625 -0.003782  0.008867    -0.008163  0.018607 -0.001350   \n",
       "3   3  3 Years  0.022890 -0.003104  0.009352    -0.007725  0.018501 -0.001437   \n",
       "4   4  4 Years  0.022692 -0.002281  0.009883    -0.006728  0.018579 -0.001387   \n",
       "\n",
       "   Australia  New Zealand  Hong Kong  Unnamed: 10                  Date  \n",
       "0   0.000000     0.000000   0.000000          NaN  September 30th, 2019  \n",
       "1   0.016224     0.015871   0.018065     0.023449  September 30th, 2020  \n",
       "2   0.015410     0.015413   0.018651     0.020625  September 30th, 2021  \n",
       "3   0.015476     0.015696   0.019001          NaN  September 30th, 2022  \n",
       "4   0.016134     0.016356   0.019424          NaN     October 2nd, 2023  "
      ]
     },
     "execution_count": 7,
     "metadata": {},
     "output_type": "execute_result"
    }
   ],
   "source": [
    "\n",
    "def valuation_formula(y):\n",
    "    return ql.TARGET().advance(todayDate,y*12,Months)\n",
    "\n",
    "dfbma['Date'] = dfbma.apply(lambda row: valuation_formula(row['ID']), axis=1)\n",
    "\n",
    "df_bmaScen=dfbma[['ID','Date','US']]\n",
    "dfbma.head()\n"
   ]
  },
  {
   "cell_type": "markdown",
   "metadata": {},
   "source": [
    "# 1.0 Creating and calibrating a term Structure with spreads"
   ]
  },
  {
   "cell_type": "code",
   "execution_count": 8,
   "metadata": {},
   "outputs": [],
   "source": [
    "dateStruct=bma.DateTimeStruct() #struct that contains defaults Date and time attributes\n",
    "intStruct=bma.IntRatesStruct() #struct that contains defaults interest rates attributes\n",
    "\n",
    "testSchedule=bma.create_schedule(dateStruct) #function to create a schedule\n",
    "\n",
    "spotValues=dfbma['US'].tolist()[0:100]\n",
    "\n",
    "spotT=bma.create_spotCurve(spotValues,testSchedule,dateStruct,intStruct) #function to create a spot curve\n",
    "\n",
    "spreadT=deltas['scen2'] #deltas for KRD stored in MongoDb\n",
    "\n",
    "mynewCurve=bma.calibrate_term_structure(spotT,spreadT,todayDate) #functioon to calibrate a term structure\n",
    "\n"
   ]
  },
  {
   "cell_type": "code",
   "execution_count": 40,
   "metadata": {},
   "outputs": [
    {
     "data": {
      "text/plain": [
       "<QuantLib.QuantLib.ZeroCurve; proxy of <Swig Object of type 'boost::shared_ptr< InterpolatedZeroCurve< Linear > > *' at 0x101fbe0390> >"
      ]
     },
     "execution_count": 40,
     "metadata": {},
     "output_type": "execute_result"
    }
   ],
   "source": []
  },
  {
   "cell_type": "markdown",
   "metadata": {},
   "source": [
    "## 1.1 Loop to create all BMA scenarios "
   ]
  },
  {
   "cell_type": "code",
   "execution_count": 10,
   "metadata": {},
   "outputs": [
    {
     "data": {
      "text/html": [
       "<div>\n",
       "<style scoped>\n",
       "    .dataframe tbody tr th:only-of-type {\n",
       "        vertical-align: middle;\n",
       "    }\n",
       "\n",
       "    .dataframe tbody tr th {\n",
       "        vertical-align: top;\n",
       "    }\n",
       "\n",
       "    .dataframe thead th {\n",
       "        text-align: right;\n",
       "    }\n",
       "</style>\n",
       "<table border=\"1\" class=\"dataframe\">\n",
       "  <thead>\n",
       "    <tr style=\"text-align: right;\">\n",
       "      <th></th>\n",
       "      <th>scen1</th>\n",
       "      <th>scen2</th>\n",
       "    </tr>\n",
       "    <tr>\n",
       "      <th>date</th>\n",
       "      <th></th>\n",
       "      <th></th>\n",
       "    </tr>\n",
       "  </thead>\n",
       "  <tbody>\n",
       "    <tr>\n",
       "      <th>September 30th, 2019</th>\n",
       "      <td>0.000002</td>\n",
       "      <td>0.000003</td>\n",
       "    </tr>\n",
       "    <tr>\n",
       "      <th>September 30th, 2020</th>\n",
       "      <td>0.023448</td>\n",
       "      <td>0.026450</td>\n",
       "    </tr>\n",
       "    <tr>\n",
       "      <th>September 30th, 2021</th>\n",
       "      <td>0.021374</td>\n",
       "      <td>0.025875</td>\n",
       "    </tr>\n",
       "    <tr>\n",
       "      <th>September 30th, 2022</th>\n",
       "      <td>0.019887</td>\n",
       "      <td>0.025890</td>\n",
       "    </tr>\n",
       "    <tr>\n",
       "      <th>September 29th, 2023</th>\n",
       "      <td>0.018941</td>\n",
       "      <td>0.026440</td>\n",
       "    </tr>\n",
       "  </tbody>\n",
       "</table>\n",
       "</div>"
      ],
      "text/plain": [
       "                         scen1     scen2\n",
       "date                                    \n",
       "September 30th, 2019  0.000002  0.000003\n",
       "September 30th, 2020  0.023448  0.026450\n",
       "September 30th, 2021  0.021374  0.025875\n",
       "September 30th, 2022  0.019887  0.025890\n",
       "September 29th, 2023  0.018941  0.026440"
      ]
     },
     "execution_count": 10,
     "metadata": {},
     "output_type": "execute_result"
    }
   ],
   "source": [
    "listScen=['scen1','scen2']\n",
    "\n",
    "dfList=[]\n",
    "for scen in listScen:\n",
    "    spreadT=deltas[scen]\n",
    "    #spotT=spotCurve\n",
    "    mynewCurve=bma.calibrate_term_structure(spotT,spreadT,todayDate)\n",
    "    datesX=list(spotT.dates())\n",
    "    test=bma.extract_info(mynewCurve,datesX,todayDate,scen)\n",
    "    dfList.append(test)\n",
    "\n",
    "#merge all into one\n",
    "dfs = [df.set_index('date') for df in dfList]\n",
    "finalDf=dfs[0].join(dfs[1:])    \n",
    "finalDf.head()"
   ]
  },
  {
   "cell_type": "markdown",
   "metadata": {},
   "source": [
    "## 1.2 Tests and verifications"
   ]
  },
  {
   "cell_type": "code",
   "execution_count": 11,
   "metadata": {},
   "outputs": [],
   "source": [
    "#to test that all time periods for the next 99 years are within 1 basis point of the target\n",
    "baseCurveHandle = ql.YieldTermStructureHandle(spotT)\n",
    "#spreads[22].setValue(-0.011828281330298842*0.995)\n",
    "#spotCurveHandle.forwardRate(ql.Date(30, 9, 2020),ql.Date(30, 9, 2021),ql.Thirty360(),ql.Compounded).rate()\n",
    "scenHandle=ql.YieldTermStructureHandle(mynewCurve)\n",
    "for year in range(1,99):\n",
    "    #date1=ql.Date(30, 9, 2019+year-1)\n",
    "    date1=TARGET().advance(todayDate,year-1,Years)\n",
    "    #date2=ql.Date(30, 9, 2019+year)\n",
    "    date2=datesX[year]\n",
    "    baseImpl=ql.ImpliedTermStructure(baseCurveHandle,date1)\n",
    "    scenImpl=ql.ImpliedTermStructure(scenHandle,date1)\n",
    "    a=baseImpl.zeroRate(1,ql.Compounded).rate()\n",
    "    \n",
    "    b=scenImpl.zeroRate(1,ql.Compounded).rate()\n",
    "    \n",
    "    assert abs(b-a-spreadT[min(year,35)])<0.001\n",
    "    "
   ]
  },
  {
   "cell_type": "markdown",
   "metadata": {},
   "source": [
    "## 2.0 Obtaining forward rates from term structure of interest"
   ]
  },
  {
   "cell_type": "code",
   "execution_count": 12,
   "metadata": {},
   "outputs": [
    {
     "data": {
      "text/plain": [
       "0.02230038901066811"
      ]
     },
     "execution_count": 12,
     "metadata": {},
     "output_type": "execute_result"
    }
   ],
   "source": [
    "spotCurveHandle = ql.YieldTermStructureHandle(spotT)\n",
    "spotCurveHandle.forwardRate(ql.Date(30, 9, 2020),ql.Date(30, 9, 2021),ql.ActualActual(),ql.Compounded).rate()"
   ]
  },
  {
   "cell_type": "markdown",
   "metadata": {},
   "source": [
    "## 3.0 implied term structure method"
   ]
  },
  {
   "cell_type": "code",
   "execution_count": 13,
   "metadata": {},
   "outputs": [
    {
     "data": {
      "text/plain": [
       "0.02230028720965982"
      ]
     },
     "execution_count": 13,
     "metadata": {},
     "output_type": "execute_result"
    }
   ],
   "source": [
    "#implied forward curve\n",
    "impl=ql.ImpliedTermStructure(spotCurveHandle,TARGET().advance(todayDate,1,Years))\n",
    "impl.zeroRate(1,ql.Compounded).rate()"
   ]
  },
  {
   "cell_type": "markdown",
   "metadata": {},
   "source": [
    "## 4.0 term structure with various spreads for KRD "
   ]
  },
  {
   "cell_type": "code",
   "execution_count": 14,
   "metadata": {},
   "outputs": [
    {
     "data": {
      "text/html": [
       "<div>\n",
       "<style scoped>\n",
       "    .dataframe tbody tr th:only-of-type {\n",
       "        vertical-align: middle;\n",
       "    }\n",
       "\n",
       "    .dataframe tbody tr th {\n",
       "        vertical-align: top;\n",
       "    }\n",
       "\n",
       "    .dataframe thead th {\n",
       "        text-align: right;\n",
       "    }\n",
       "</style>\n",
       "<table border=\"1\" class=\"dataframe\">\n",
       "  <thead>\n",
       "    <tr style=\"text-align: right;\">\n",
       "      <th></th>\n",
       "      <th>date</th>\n",
       "      <th>spot_rate</th>\n",
       "    </tr>\n",
       "  </thead>\n",
       "  <tbody>\n",
       "    <tr>\n",
       "      <th>0</th>\n",
       "      <td>September 30th, 2019</td>\n",
       "      <td>0.000002</td>\n",
       "    </tr>\n",
       "    <tr>\n",
       "      <th>1</th>\n",
       "      <td>September 30th, 2020</td>\n",
       "      <td>0.024949</td>\n",
       "    </tr>\n",
       "    <tr>\n",
       "      <th>2</th>\n",
       "      <td>September 30th, 2021</td>\n",
       "      <td>0.023625</td>\n",
       "    </tr>\n",
       "    <tr>\n",
       "      <th>3</th>\n",
       "      <td>September 30th, 2022</td>\n",
       "      <td>0.022890</td>\n",
       "    </tr>\n",
       "    <tr>\n",
       "      <th>4</th>\n",
       "      <td>September 29th, 2023</td>\n",
       "      <td>0.022692</td>\n",
       "    </tr>\n",
       "  </tbody>\n",
       "</table>\n",
       "</div>"
      ],
      "text/plain": [
       "                   date  spot_rate\n",
       "0  September 30th, 2019   0.000002\n",
       "1  September 30th, 2020   0.024949\n",
       "2  September 30th, 2021   0.023625\n",
       "3  September 30th, 2022   0.022890\n",
       "4  September 29th, 2023   0.022692"
      ]
     },
     "execution_count": 14,
     "metadata": {},
     "output_type": "execute_result"
    }
   ],
   "source": [
    "spreads = [ ql.SimpleQuote(0.0) for n in datesX ]\n",
    "base=bma.extract_info(spotT,datesX,todayDate)\n",
    "base.head()"
   ]
  },
  {
   "cell_type": "markdown",
   "metadata": {},
   "source": [
    "### 4.1: Test to show that adding 0 spreads equal the original term strucure "
   ]
  },
  {
   "cell_type": "code",
   "execution_count": 15,
   "metadata": {},
   "outputs": [
    {
     "data": {
      "text/plain": [
       "0.0"
      ]
     },
     "execution_count": 15,
     "metadata": {},
     "output_type": "execute_result"
    }
   ],
   "source": [
    "#implied forward curve from base\n",
    "yearsInFuture=0\n",
    "impl=ql.ImpliedTermStructure(spotCurveHandle,TARGET().advance(todayDate,yearsInFuture,Years))\n",
    "impl.zeroRate(1,ql.Compounded).rate()\n",
    "\n",
    "#spreads \n",
    "spreads = [ ql.SimpleQuote(0.0) for n in datesX ] # null spreads to begin\n",
    "ScenarioCurve = ql.SpreadedLinearZeroInterpolatedTermStructure(ql.YieldTermStructureHandle(spotT),[ql.QuoteHandle(q) for q in spreads],datesX)\n",
    "\n",
    "\n",
    "scenHandle=ql.YieldTermStructureHandle(ScenarioCurve)\n",
    "scenImpl=ql.ImpliedTermStructure(scenHandle,TARGET().advance(todayDate,yearsInFuture,Years))\n",
    "\n",
    "#cost function=\n",
    "scenImpl.zeroRate(1,ql.Compounded).rate()-impl.zeroRate(1,ql.Compounded).rate()"
   ]
  },
  {
   "cell_type": "markdown",
   "metadata": {},
   "source": [
    "## 5.0 discount as simple cash flow"
   ]
  },
  {
   "cell_type": "code",
   "execution_count": 16,
   "metadata": {},
   "outputs": [
    {
     "data": {
      "text/plain": [
       "1.0249667743731472"
      ]
     },
     "execution_count": 16,
     "metadata": {},
     "output_type": "execute_result"
    }
   ],
   "source": [
    "cf1=ql.SimpleCashFlow(1000,ql.Date(30, 9, 2020))\n",
    "cf2=ql.SimpleCashFlow(1000,ql.Date(30, 6, 2022))\n",
    "cf3=ql.SimpleCashFlow(1000,ql.Date(30, 6, 2023))\n",
    "cflist=[cf1,cf2,cf3]\n",
    "\n",
    "1/(cf1.amount()*spotCurveHandle.discount(cf1.date()))*1000"
   ]
  },
  {
   "cell_type": "markdown",
   "metadata": {},
   "source": [
    "### 5.1 discount multiple cash flows "
   ]
  },
  {
   "cell_type": "code",
   "execution_count": 33,
   "metadata": {},
   "outputs": [
    {
     "name": "stdout",
     "output_type": "stream",
     "text": [
      "curve  1.0408107741923882\n"
     ]
    },
    {
     "data": {
      "text/plain": [
       "1.04060401"
      ]
     },
     "execution_count": 33,
     "metadata": {},
     "output_type": "execute_result"
    }
   ],
   "source": [
    "calc_date = Date(30, 9, 2019)\n",
    "risk_free_rate = 0.01\n",
    "\n",
    "ir=ql.InterestRate(0.01,intStruct.dayCount,intStruct.compounding,intStruct.compoundingFrequency)\n",
    "\n",
    "discount_curve = YieldTermStructureHandle(\n",
    "                    ql.FlatForward(calc_date, risk_free_rate, ActualActual()))\n",
    "\n",
    "\n",
    "spotCurveHandle = ql.YieldTermStructureHandle(spotT)\n",
    "cfZ=ql.SimpleCashFlow(1,ql.Date(30, 9, 2023))\n",
    "print(\"curve \",1/ql.CashFlows.npv([cfZ],discount_curve,True,ql.Date(30, 9, 2019)))\n",
    "\n",
    "1/ql.CashFlows.npv([cfZ],ir,True,ql.Date(30, 9, 2019))\n"
   ]
  },
  {
   "cell_type": "code",
   "execution_count": 41,
   "metadata": {},
   "outputs": [
    {
     "ename": "AttributeError",
     "evalue": "'IntRatesStruct' object has no attribute 'isFlat'",
     "output_type": "error",
     "traceback": [
      "\u001b[0;31m---------------------------------------------------------------------------\u001b[0m",
      "\u001b[0;31mAttributeError\u001b[0m                            Traceback (most recent call last)",
      "\u001b[0;32m<ipython-input-41-9ebdab11bc65>\u001b[0m in \u001b[0;36m<module>\u001b[0;34m\u001b[0m\n\u001b[1;32m      5\u001b[0m \u001b[0;34m\u001b[0m\u001b[0m\n\u001b[1;32m      6\u001b[0m \u001b[0;31m#create curve\u001b[0m\u001b[0;34m\u001b[0m\u001b[0;34m\u001b[0m\u001b[0;34m\u001b[0m\u001b[0m\n\u001b[0;32m----> 7\u001b[0;31m \u001b[0;32mif\u001b[0m \u001b[0mintStructA\u001b[0m\u001b[0;34m.\u001b[0m\u001b[0misFlat\u001b[0m\u001b[0;34m==\u001b[0m\u001b[0;32mTrue\u001b[0m\u001b[0;34m:\u001b[0m\u001b[0;34m\u001b[0m\u001b[0;34m\u001b[0m\u001b[0m\n\u001b[0m\u001b[1;32m      8\u001b[0m     \u001b[0mdiscount_curve\u001b[0m\u001b[0;34m=\u001b[0m\u001b[0mql\u001b[0m\u001b[0;34m.\u001b[0m\u001b[0mFlatForward\u001b[0m\u001b[0;34m(\u001b[0m\u001b[0mcalc_date\u001b[0m\u001b[0;34m,\u001b[0m \u001b[0mrisk_free_rate\u001b[0m\u001b[0;34m,\u001b[0m \u001b[0mintStructA\u001b[0m\u001b[0;34m.\u001b[0m\u001b[0mdayCount\u001b[0m\u001b[0;34m)\u001b[0m\u001b[0;34m\u001b[0m\u001b[0;34m\u001b[0m\u001b[0m\n\u001b[1;32m      9\u001b[0m \u001b[0;32melse\u001b[0m\u001b[0;34m:\u001b[0m\u001b[0;34m\u001b[0m\u001b[0;34m\u001b[0m\u001b[0m\n",
      "\u001b[0;31mAttributeError\u001b[0m: 'IntRatesStruct' object has no attribute 'isFlat'"
     ]
    }
   ],
   "source": [
    "\n",
    "actModel=bma.ActuarialOutput()\n",
    "intStructA=bma.IntRatesStruct()\n",
    "dateStruct=bma.DateTimeStruct()\n",
    "ScheduleA=bma.create_schedule(dateStruct)\n",
    "\n",
    "#create curve\n",
    "if intStructA.isFlat==True:\n",
    "    discount_curve=ql.FlatForward(calc_date, risk_free_rate, intStructA.dayCount)\n",
    "else:\n",
    "    discount_curve=ql.YieldTermStructureHandle(spotT)\n",
    "\n",
    "print(\"curve \",1/ql.CashFlows.npv([cfZ],discount_curve,True,ql.Date(30, 9, 2019)))   "
   ]
  },
  {
   "cell_type": "markdown",
   "metadata": {},
   "source": [
    "## 6.0 Match according to spot rates"
   ]
  },
  {
   "cell_type": "code",
   "execution_count": 53,
   "metadata": {},
   "outputs": [
    {
     "name": "stdout",
     "output_type": "stream",
     "text": [
      "0.0\n"
     ]
    },
    {
     "ename": "NameError",
     "evalue": "name 'ScenCurve' is not defined",
     "output_type": "error",
     "traceback": [
      "\u001b[0;31m---------------------------------------------------------------------------\u001b[0m",
      "\u001b[0;31mNameError\u001b[0m                                 Traceback (most recent call last)",
      "\u001b[0;32m<ipython-input-53-0ebb2eab9646>\u001b[0m in \u001b[0;36m<module>\u001b[0;34m\u001b[0m\n\u001b[1;32m     13\u001b[0m     \u001b[0mtarget\u001b[0m\u001b[0;34m=\u001b[0m\u001b[0mdeltas\u001b[0m\u001b[0;34m[\u001b[0m\u001b[0;34m'scen2'\u001b[0m\u001b[0;34m]\u001b[0m\u001b[0;34m[\u001b[0m\u001b[0mmin\u001b[0m\u001b[0;34m(\u001b[0m\u001b[0mt\u001b[0m\u001b[0;34m,\u001b[0m\u001b[0;36m30\u001b[0m\u001b[0;34m)\u001b[0m\u001b[0;34m]\u001b[0m\u001b[0;34m\u001b[0m\u001b[0;34m\u001b[0m\u001b[0m\n\u001b[1;32m     14\u001b[0m     \u001b[0mspotDate\u001b[0m\u001b[0;34m=\u001b[0m\u001b[0mdatesX\u001b[0m\u001b[0;34m[\u001b[0m\u001b[0mt\u001b[0m\u001b[0;34m]\u001b[0m\u001b[0;34m\u001b[0m\u001b[0;34m\u001b[0m\u001b[0m\n\u001b[0;32m---> 15\u001b[0;31m     \u001b[0mx\u001b[0m\u001b[0;34m=\u001b[0m\u001b[0mnewton\u001b[0m\u001b[0;34m(\u001b[0m\u001b[0mbma\u001b[0m\u001b[0;34m.\u001b[0m\u001b[0mspot_rate_match\u001b[0m\u001b[0;34m,\u001b[0m\u001b[0mmyGuess\u001b[0m\u001b[0;34m,\u001b[0m\u001b[0margs\u001b[0m\u001b[0;34m=\u001b[0m\u001b[0;34m(\u001b[0m\u001b[0mScenCurve\u001b[0m\u001b[0;34m,\u001b[0m\u001b[0mbaseCurve\u001b[0m\u001b[0;34m,\u001b[0m\u001b[0mtodayDate\u001b[0m\u001b[0;34m,\u001b[0m\u001b[0mspotDate\u001b[0m\u001b[0;34m,\u001b[0m\u001b[0mspreads\u001b[0m\u001b[0;34m,\u001b[0m\u001b[0mtarget\u001b[0m\u001b[0;34m,\u001b[0m\u001b[0mindx\u001b[0m\u001b[0;34m)\u001b[0m\u001b[0;34m)\u001b[0m\u001b[0;34m\u001b[0m\u001b[0;34m\u001b[0m\u001b[0m\n\u001b[0m\u001b[1;32m     16\u001b[0m \u001b[0;34m\u001b[0m\u001b[0m\n",
      "\u001b[0;31mNameError\u001b[0m: name 'ScenCurve' is not defined"
     ]
    }
   ],
   "source": [
    "\n",
    "print(spreads[9].value())\n",
    "todaysDate = ql.Date(30, 9, 2019)\n",
    "myGuess=0.03\n",
    "datesX=list(spotT.dates())\n",
    "\n",
    "#for t in range(1,len([spotCurve.dates()])):\n",
    "for t in range(1,85):   \n",
    "    #t=t+1\n",
    "    indx=t\n",
    "    if t>98:\n",
    "        break\n",
    "    target=deltas['scen2'][min(t,30)]\n",
    "    spotDate=datesX[t]\n",
    "    x=newton(bma.spot_rate_match,myGuess,args=(ScenCurve,baseCurve,todayDate,spotDate,spreads,target,indx))\n",
    "\n"
   ]
  },
  {
   "cell_type": "code",
   "execution_count": 58,
   "metadata": {},
   "outputs": [
    {
     "name": "stdout",
     "output_type": "stream",
     "text": [
      "100\n",
      "0.002926475782581509\n"
     ]
    },
    {
     "data": {
      "text/html": [
       "<div>\n",
       "<style scoped>\n",
       "    .dataframe tbody tr th:only-of-type {\n",
       "        vertical-align: middle;\n",
       "    }\n",
       "\n",
       "    .dataframe tbody tr th {\n",
       "        vertical-align: top;\n",
       "    }\n",
       "\n",
       "    .dataframe thead th {\n",
       "        text-align: right;\n",
       "    }\n",
       "</style>\n",
       "<table border=\"1\" class=\"dataframe\">\n",
       "  <thead>\n",
       "    <tr style=\"text-align: right;\">\n",
       "      <th></th>\n",
       "      <th>Date</th>\n",
       "      <th>base</th>\n",
       "      <th>test</th>\n",
       "      <th>delta</th>\n",
       "    </tr>\n",
       "  </thead>\n",
       "  <tbody>\n",
       "    <tr>\n",
       "      <th>0</th>\n",
       "      <td>September 30th, 2019</td>\n",
       "      <td>0.000002</td>\n",
       "      <td>0.000003</td>\n",
       "      <td>1.462456e-07</td>\n",
       "    </tr>\n",
       "    <tr>\n",
       "      <th>1</th>\n",
       "      <td>September 30th, 2020</td>\n",
       "      <td>0.024949</td>\n",
       "      <td>0.026450</td>\n",
       "      <td>1.501072e-03</td>\n",
       "    </tr>\n",
       "    <tr>\n",
       "      <th>2</th>\n",
       "      <td>September 30th, 2021</td>\n",
       "      <td>0.023625</td>\n",
       "      <td>0.026625</td>\n",
       "      <td>3.000001e-03</td>\n",
       "    </tr>\n",
       "    <tr>\n",
       "      <th>3</th>\n",
       "      <td>September 30th, 2022</td>\n",
       "      <td>0.022890</td>\n",
       "      <td>0.027390</td>\n",
       "      <td>4.500001e-03</td>\n",
       "    </tr>\n",
       "    <tr>\n",
       "      <th>4</th>\n",
       "      <td>September 29th, 2023</td>\n",
       "      <td>0.022692</td>\n",
       "      <td>0.028692</td>\n",
       "      <td>6.000058e-03</td>\n",
       "    </tr>\n",
       "    <tr>\n",
       "      <th>5</th>\n",
       "      <td>September 30th, 2024</td>\n",
       "      <td>0.022773</td>\n",
       "      <td>0.030274</td>\n",
       "      <td>7.501043e-03</td>\n",
       "    </tr>\n",
       "    <tr>\n",
       "      <th>6</th>\n",
       "      <td>September 30th, 2025</td>\n",
       "      <td>0.023009</td>\n",
       "      <td>0.032009</td>\n",
       "      <td>9.000000e-03</td>\n",
       "    </tr>\n",
       "    <tr>\n",
       "      <th>7</th>\n",
       "      <td>September 30th, 2026</td>\n",
       "      <td>0.023296</td>\n",
       "      <td>0.033796</td>\n",
       "      <td>1.050000e-02</td>\n",
       "    </tr>\n",
       "    <tr>\n",
       "      <th>8</th>\n",
       "      <td>September 30th, 2027</td>\n",
       "      <td>0.023606</td>\n",
       "      <td>0.035606</td>\n",
       "      <td>1.200000e-02</td>\n",
       "    </tr>\n",
       "    <tr>\n",
       "      <th>9</th>\n",
       "      <td>September 29th, 2028</td>\n",
       "      <td>0.023929</td>\n",
       "      <td>0.037430</td>\n",
       "      <td>1.350112e-02</td>\n",
       "    </tr>\n",
       "    <tr>\n",
       "      <th>10</th>\n",
       "      <td>September 28th, 2029</td>\n",
       "      <td>0.024263</td>\n",
       "      <td>0.039264</td>\n",
       "      <td>1.500011e-02</td>\n",
       "    </tr>\n",
       "    <tr>\n",
       "      <th>11</th>\n",
       "      <td>September 30th, 2030</td>\n",
       "      <td>0.024587</td>\n",
       "      <td>0.039587</td>\n",
       "      <td>1.500000e-02</td>\n",
       "    </tr>\n",
       "    <tr>\n",
       "      <th>12</th>\n",
       "      <td>September 30th, 2031</td>\n",
       "      <td>0.024867</td>\n",
       "      <td>0.039867</td>\n",
       "      <td>1.500000e-02</td>\n",
       "    </tr>\n",
       "    <tr>\n",
       "      <th>13</th>\n",
       "      <td>September 30th, 2032</td>\n",
       "      <td>0.025121</td>\n",
       "      <td>0.040121</td>\n",
       "      <td>1.500000e-02</td>\n",
       "    </tr>\n",
       "    <tr>\n",
       "      <th>14</th>\n",
       "      <td>September 30th, 2033</td>\n",
       "      <td>0.025350</td>\n",
       "      <td>0.040350</td>\n",
       "      <td>1.500000e-02</td>\n",
       "    </tr>\n",
       "    <tr>\n",
       "      <th>15</th>\n",
       "      <td>September 29th, 2034</td>\n",
       "      <td>0.025507</td>\n",
       "      <td>0.040507</td>\n",
       "      <td>1.500000e-02</td>\n",
       "    </tr>\n",
       "    <tr>\n",
       "      <th>16</th>\n",
       "      <td>September 28th, 2035</td>\n",
       "      <td>0.025676</td>\n",
       "      <td>0.040676</td>\n",
       "      <td>1.500000e-02</td>\n",
       "    </tr>\n",
       "    <tr>\n",
       "      <th>17</th>\n",
       "      <td>September 30th, 2036</td>\n",
       "      <td>0.025795</td>\n",
       "      <td>0.040795</td>\n",
       "      <td>1.500000e-02</td>\n",
       "    </tr>\n",
       "    <tr>\n",
       "      <th>18</th>\n",
       "      <td>September 30th, 2037</td>\n",
       "      <td>0.025907</td>\n",
       "      <td>0.040907</td>\n",
       "      <td>1.500000e-02</td>\n",
       "    </tr>\n",
       "    <tr>\n",
       "      <th>19</th>\n",
       "      <td>September 30th, 2038</td>\n",
       "      <td>0.025991</td>\n",
       "      <td>0.040991</td>\n",
       "      <td>1.500000e-02</td>\n",
       "    </tr>\n",
       "  </tbody>\n",
       "</table>\n",
       "</div>"
      ],
      "text/plain": [
       "                    Date      base      test         delta\n",
       "0   September 30th, 2019  0.000002  0.000003  1.462456e-07\n",
       "1   September 30th, 2020  0.024949  0.026450  1.501072e-03\n",
       "2   September 30th, 2021  0.023625  0.026625  3.000001e-03\n",
       "3   September 30th, 2022  0.022890  0.027390  4.500001e-03\n",
       "4   September 29th, 2023  0.022692  0.028692  6.000058e-03\n",
       "5   September 30th, 2024  0.022773  0.030274  7.501043e-03\n",
       "6   September 30th, 2025  0.023009  0.032009  9.000000e-03\n",
       "7   September 30th, 2026  0.023296  0.033796  1.050000e-02\n",
       "8   September 30th, 2027  0.023606  0.035606  1.200000e-02\n",
       "9   September 29th, 2028  0.023929  0.037430  1.350112e-02\n",
       "10  September 28th, 2029  0.024263  0.039264  1.500011e-02\n",
       "11  September 30th, 2030  0.024587  0.039587  1.500000e-02\n",
       "12  September 30th, 2031  0.024867  0.039867  1.500000e-02\n",
       "13  September 30th, 2032  0.025121  0.040121  1.500000e-02\n",
       "14  September 30th, 2033  0.025350  0.040350  1.500000e-02\n",
       "15  September 29th, 2034  0.025507  0.040507  1.500000e-02\n",
       "16  September 28th, 2035  0.025676  0.040676  1.500000e-02\n",
       "17  September 30th, 2036  0.025795  0.040795  1.500000e-02\n",
       "18  September 30th, 2037  0.025907  0.040907  1.500000e-02\n",
       "19  September 30th, 2038  0.025991  0.040991  1.500000e-02"
      ]
     },
     "execution_count": 58,
     "metadata": {},
     "output_type": "execute_result"
    }
   ],
   "source": [
    "df2=extractInfoFromCurve(todaysDate,spotCurve,spreads,[\"Date\",colname],baseCurve)\n",
    "    \n",
    "df_bmaScenY=base.merge(df2,on=['Date'], suffixes=('','_lag'), how='left')\n",
    "df_bmaScenY['delta']=df_bmaScenY['test']-df_bmaScenY['base']\n",
    "\n",
    "print(spreads[2].value())\n",
    "df_bmaScenY.head(20)"
   ]
  },
  {
   "cell_type": "code",
   "execution_count": 16,
   "metadata": {},
   "outputs": [
    {
     "data": {
      "text/plain": [
       "196.36363636363635"
      ]
     },
     "execution_count": 16,
     "metadata": {},
     "output_type": "execute_result"
    }
   ],
   "source": [
    "12/22*360"
   ]
  },
  {
   "cell_type": "code",
   "execution_count": null,
   "metadata": {},
   "outputs": [],
   "source": []
  }
 ],
 "metadata": {
  "kernelspec": {
   "display_name": "Python 3",
   "language": "python",
   "name": "python3"
  },
  "language_info": {
   "codemirror_mode": {
    "name": "ipython",
    "version": 3
   },
   "file_extension": ".py",
   "mimetype": "text/x-python",
   "name": "python",
   "nbconvert_exporter": "python",
   "pygments_lexer": "ipython3",
   "version": "3.7.3"
  }
 },
 "nbformat": 4,
 "nbformat_minor": 2
}
