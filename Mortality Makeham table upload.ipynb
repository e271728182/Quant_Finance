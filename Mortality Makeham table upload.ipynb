{
 "cells": [
  {
   "cell_type": "code",
   "execution_count": 1,
   "metadata": {},
   "outputs": [],
   "source": [
    "import QuantLib as ql\n",
    "import pandas as pd\n",
    "import numpy as np\n",
    "import os \n",
    "import quantFin as qf\n",
    "import pymongo as py\n",
    "import mysql.connector\n",
    "import scipy.optimize as sp\n",
    "import math\n",
    "import matplotlib.pyplot as plt\n",
    "import time\n",
    "import datetime as dt\n",
    "import sys"
   ]
  },
  {
   "cell_type": "code",
   "execution_count": 2,
   "metadata": {},
   "outputs": [],
   "source": [
    "config = {\n",
    "    'user': 'root',\n",
    "    'password': 'cba123',\n",
    "    'host': '34.66.65.69',\n",
    "    'database':'ACT_01',\n",
    "    'use_pure':True,\n",
    "\n",
    "}\n",
    "cnxn = mysql.connector.connect(**config)\n",
    "cursor = cnxn.cursor()"
   ]
  },
  {
   "cell_type": "code",
   "execution_count": 108,
   "metadata": {},
   "outputs": [],
   "source": [
    "life_qx=[\n",
    "0.005229,\n",
    "0.000342,\n",
    "0.000209,\n",
    "0.000162,\n",
    "0.000143,\n",
    "0.000125,\n",
    "0.000113,\n",
    "0.000104,\n",
    "0.000097,\n",
    "0.000093,\n",
    "0.000092,\n",
    "0.000098,\n",
    "0.000113,\n",
    "0.000138,\n",
    "0.000172,\n",
    "0.000211,\n",
    "0.000251,\n",
    "0.000293,\n",
    "0.000336,\n",
    "0.000379,\n",
    "0.000425,\n",
    "0.000472,\n",
    "0.000515,\n",
    "0.000551,\n",
    "0.000582,\n",
    "0.000612,\n",
    "0.000646,\n",
    "0.000684,\n",
    "0.000729,\n",
    "0.000779,\n",
    "0.000833,\n",
    "0.000887,\n",
    "0.000939,\n",
    "0.000988,\n",
    "0.001034,\n",
    "0.001085,\n",
    "0.001143,\n",
    "0.001205,\n",
    "0.001271,\n",
    "0.001345,\n",
    "0.001429,\n",
    "0.001524,\n",
    "0.001630,\n",
    "0.001748,\n",
    "0.001881,\n",
    "0.002029,\n",
    "0.002195,\n",
    "0.002386,\n",
    "0.002605,\n",
    "0.002851,\n",
    "0.003118,\n",
    "0.003403,\n",
    "0.003714,\n",
    "0.004052,\n",
    "0.004415,\n",
    "0.004813,\n",
    "0.005233,\n",
    "0.005647,\n",
    "0.006043,\n",
    "0.006441,\n",
    "0.006886,\n",
    "0.007391,\n",
    "0.007931,\n",
    "0.008508,\n",
    "0.009142,\n",
    "0.009874,\n",
    "0.010717,\n",
    "0.011660,\n",
    "0.012711,\n",
    "0.013894,\n",
    "0.015285,\n",
    "0.016878,\n",
    "0.018607,\n",
    "0.020466,\n",
    "0.022522,\n",
    "0.024929,\n",
    "0.027729,\n",
    "0.030855,\n",
    "0.034321,\n",
    "0.038211,\n",
    "0.042771,\n",
    "0.047992,\n",
    "0.053678,\n",
    "0.059810,\n",
    "0.066584,\n",
    "0.074258,\n",
    "0.083053,\n",
    "0.093123,\n",
    "0.104540,\n",
    "0.117305,\n",
    "0.131392,\n",
    "0.146753,\n",
    "0.163331,\n",
    "0.181064,\n",
    "0.199886,\n",
    "0.218908,\n",
    "0.237815,\n",
    "0.256265,\n",
    "0.273894,\n",
    "0.290328,\n",
    "0.307747,\n",
    "0.326212,\n",
    "0.345785,\n",
    "0.366532,\n",
    "0.388524,\n",
    "0.411835,\n",
    "0.436546,\n",
    "0.462738,\n",
    "0.490503,\n",
    "0.519933,\n",
    "0.551129,\n",
    "0.584196,\n",
    "0.619248,\n",
    "0.656403,\n",
    "0.695787,\n",
    "0.736353,\n",
    "0.773170,\n",
    "0.811829,\n",
    "0.852420,\n",
    "0.895041]"
   ]
  },
  {
   "cell_type": "code",
   "execution_count": 109,
   "metadata": {},
   "outputs": [
    {
     "name": "stdout",
     "output_type": "stream",
     "text": [
      "115\n",
      "0.004813\n"
     ]
    }
   ],
   "source": [
    "qx=np.asarray(life_qx)\n",
    "sx=np.cumprod(np.ones(len(life_qx))-qx)\n",
    "print(len(life_qx))\n",
    "print(life_qx[55])             \n",
    "             "
   ]
  },
  {
   "cell_type": "code",
   "execution_count": 102,
   "metadata": {},
   "outputs": [],
   "source": [
    "xdata=np.arange(len(life_qx))\n",
    "ydata=sx\n",
    "\n",
    "popt,covp=sp.curve_fit(qf.gomp_makeham_surv,xdata,ydata)"
   ]
  },
  {
   "cell_type": "code",
   "execution_count": 103,
   "metadata": {},
   "outputs": [
    {
     "data": {
      "image/png": "[encoded data removed]",
      "text/plain": [
       "<Figure size 432x288 with 1 Axes>"
      ]
     },
     "metadata": {
      "needs_background": "light"
     },
     "output_type": "display_data"
    }
   ],
   "source": [
    "plt.plot(xdata, qf.gomp_makeham_surv(xdata, *popt),ydata, 'g--',\n",
    "label='fit: alpha=%5.5f, beta=%5.3f, gamma=%5.5f' % tuple(popt))\n",
    "\n",
    "plt.xlabel('age')\n",
    "plt.ylabel('Sx')\n",
    "plt.legend()\n",
    "plt.show()"
   ]
  },
  {
   "cell_type": "code",
   "execution_count": 211,
   "metadata": {},
   "outputs": [
    {
     "name": "stdout",
     "output_type": "stream",
     "text": [
      "C0,C1,C2,C3,C4,C5,C6,C7,C8,C9,C10,C11,C12,C13,C14,C15,C16,C17,C18,C19,C20,C21,C22,C23,C24,C25,C26,C27,C28,C29,C30,C31,C32,C33,C34,C35,C36,C37,C38,C39,C40,C41,C42,C43,C44,C45,C46,C47,C48,C49,C50,C51,C52,C53,C54,C55,C56,C57,C58,C59,C60,C61,C62,C63,C64,C65,C66,C67,C68,C69,C70,C71,C72,C73,C74,C75,C76,C77,C78,C79,C80,C81,C82,C83,C84,C85,C86,C87,C88,C89,C90,C91,C92,C93,C94,C95,C96,C97,C98,C99,C100,C101,C102,C103,C104,C105,C106,C107,C108,C109,C110,\n"
     ]
    }
   ],
   "source": [
    "str1=''\n",
    "for i in range(0,111):\n",
    "    str1=str1+\"C\"+str(i)+','\n",
    "print(str1)"
   ]
  },
  {
   "cell_type": "code",
   "execution_count": 76,
   "metadata": {},
   "outputs": [
    {
     "data": {
      "text/plain": [
       "array([[ 1.        , -0.96884489],\n",
       "       [-0.96884489,  1.        ]])"
      ]
     },
     "execution_count": 76,
     "metadata": {},
     "output_type": "execute_result"
    }
   ],
   "source": [
    "correlation_matrix = np.corrcoef(xdata[35:], qf.gomp_makeham_surv(xdata[35:], *popt))\n",
    "correlation_matrix "
   ]
  },
  {
   "cell_type": "code",
   "execution_count": 104,
   "metadata": {},
   "outputs": [
    {
     "data": {
      "text/plain": [
       "array([6.33795099e-04, 1.06410680e-01, 9.60131455e-06])"
      ]
     },
     "execution_count": 104,
     "metadata": {},
     "output_type": "execute_result"
    }
   ],
   "source": [
    "popt"
   ]
  },
  {
   "cell_type": "code",
   "execution_count": 107,
   "metadata": {},
   "outputs": [
    {
     "data": {
      "text/plain": [
       "0.0009601314549999999"
      ]
     },
     "execution_count": 107,
     "metadata": {},
     "output_type": "execute_result"
    }
   ],
   "source": [
    "9.60131455e-06*100"
   ]
  },
  {
   "cell_type": "code",
   "execution_count": null,
   "metadata": {},
   "outputs": [],
   "source": [
    "8.762829444019063e-06,\n",
    "  0.10623560169969236,\n",
    "  0.0006149490351940046,"
   ]
  }
 ],
 "metadata": {
  "kernelspec": {
   "display_name": "Python 3",
   "language": "python",
   "name": "python3"
  },
  "language_info": {
   "codemirror_mode": {
    "name": "ipython",
    "version": 3
   },
   "file_extension": ".py",
   "mimetype": "text/x-python",
   "name": "python",
   "nbconvert_exporter": "python",
   "pygments_lexer": "ipython3",
   "version": "3.7.3"
  }
 },
 "nbformat": 4,
 "nbformat_minor": 2
}
