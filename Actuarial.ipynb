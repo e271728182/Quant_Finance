{
 "cells": [
  {
   "cell_type": "code",
   "execution_count": 1,
   "metadata": {},
   "outputs": [],
   "source": [
    "import QuantLib as ql\n",
    "import pandas as pd\n",
    "import numpy as np\n",
    "import os \n",
    "import quantFin as qf\n",
    "import pymongo as py\n",
    "import mysql.connector\n",
    "import scipy.optimize as sp\n",
    "import math\n",
    "import matplotlib.pyplot as plt\n",
    "import time\n",
    "import datetime as dt\n",
    "import sys"
   ]
  },
  {
   "cell_type": "code",
   "execution_count": 2,
   "metadata": {},
   "outputs": [],
   "source": [
    "config = {\n",
    "    'user': 'root',\n",
    "    'password': 'cba123',\n",
    "    'host': '34.66.65.69',\n",
    "    'database':'ACT_01',\n",
    "    'use_pure':True,\n",
    "\n",
    "}\n",
    "cnxn = mysql.connector.connect(**config)\n",
    "cursor = cnxn.cursor()"
   ]
  },
  {
   "cell_type": "code",
   "execution_count": 3,
   "metadata": {},
   "outputs": [],
   "source": [
    "#get mortality assumptions and store them in a dictionary for quick referencing\n",
    "cursor.execute(\"select * from mortality_assumptions\")\n",
    "out=cursor.fetchall()\n",
    "out\n",
    "\n",
    "wareHouse=qf.AssumptionWareHouse()\n",
    "for o in out:\n",
    "    mortality=qf.MortalityAssumption()\n",
    "    mortality.id=o[0]\n",
    "    mortality.soa_table_name=o[1]\n",
    "    mortality.gamma_makeham=o[2]\n",
    "    mortality.beta_makeham=o[3]\n",
    "    mortality.alpha_makeham=o[4]\n",
    "    mortality.gender=o[5]\n",
    "    wareHouse.mort_dept[mortality.id]=mortality\n",
    "    "
   ]
  },
  {
   "cell_type": "code",
   "execution_count": 4,
   "metadata": {},
   "outputs": [],
   "source": [
    "cnxn.close()\n",
    "\n"
   ]
  },
  {
   "cell_type": "code",
   "execution_count": 4,
   "metadata": {},
   "outputs": [],
   "source": [
    "cell=qf.Cell()\n",
    "cell.wareHouse.assump_set_dept[1]=qf.AssumptionSet(id=1,mortality_id=1)\n",
    "cell.wareHouse.assump_set_dept[2]=qf.AssumptionSet(id=2,mortality_id=2)\n",
    "\n",
    "for o in out:\n",
    "    mortality=qf.MortalityAssumption()\n",
    "    mortality.id=o[0]\n",
    "    mortality.soa_table_name=o[1]\n",
    "    mortality.gamma_makeham=o[2]\n",
    "    mortality.beta_makeham=o[3]\n",
    "    mortality.alpha_makeham=o[4]\n",
    "    mortality.gender=o[5]\n",
    "    cell.wareHouse.mort_dept[mortality.id]=mortality"
   ]
  },
  {
   "cell_type": "code",
   "execution_count": 5,
   "metadata": {},
   "outputs": [],
   "source": [
    "ass_set=qf.AssumptionSet(id=1,mortality_id=1)\n",
    "act_bucket=qf.ActuarialBucket(id=1,assumption_set_key=1)\n",
    "\n",
    "wareHouse.assump_set_dept[ass_set.id]=ass_set\n",
    "cell.mitos.append(act_bucket)\n",
    "policy=qf.policyHolder()\n",
    "policy.age=35\n",
    "policy.assumption_set_id=1\n",
    "\n"
   ]
  },
  {
   "cell_type": "code",
   "execution_count": 6,
   "metadata": {},
   "outputs": [
    {
     "name": "stdout",
     "output_type": "stream",
     "text": [
      "-0.04760885238647461\n"
     ]
    }
   ],
   "source": [
    "start_time = time.time()\n",
    "l=[]\n",
    "for n in range(1,1000):\n",
    "    l.append(qf.policyHolder())\n",
    "n=0\n",
    "for p in l:\n",
    "    p.assumption_set_id=1\n",
    "    p.age=min(35 +0.25*n,85)\n",
    "    n=n+1\n",
    "for p in l:\n",
    "    cell.mitos[0].calculate_qx(p,cell.wareHouse)    \n",
    "print(start_time-time.time())\n",
    "\n"
   ]
  },
  {
   "cell_type": "code",
   "execution_count": 7,
   "metadata": {},
   "outputs": [],
   "source": [
    "policyX=qf.policyHolder()\n",
    "policyX.assumption_set_id=1\n",
    "policyX.age=40"
   ]
  },
  {
   "cell_type": "code",
   "execution_count": 8,
   "metadata": {},
   "outputs": [],
   "source": [
    "intRate=qf.IntRatesStruct()\n",
    "dateTime=qf.DateTimeStruct()\n",
    "myFlatRate=0.035\n",
    "discount_curve=qf.create_discount_curve(cell.mitos[0].valuationDate,myFlatRate,intRate)\n"
   ]
  },
  {
   "cell_type": "code",
   "execution_count": 12,
   "metadata": {},
   "outputs": [],
   "source": [
    "bc=qf.ActuarialBucket()\n",
    "#z=ql.SimpleCashFlow(ss[0],bc.valuationDate)"
   ]
  },
  {
   "cell_type": "code",
   "execution_count": 13,
   "metadata": {},
   "outputs": [],
   "source": [
    "class IntX:\n",
    "    def __init__(self,valDate):\n",
    "        self.intRate=qf.IntRatesStruct()\n",
    "        self.dateTime=qf.DateTimeStruct()\n",
    "\n",
    "\n",
    "    def create_cashflows(self,startTime,freq,values):\n",
    "        \"\"\"\n",
    "        DESC:\n",
    "        creates cash flows based on a numpy array of values a starting date and a frequency \n",
    "        which increment the startTime in fixed steps\n",
    "        INPUTS:\n",
    "        startTime:Date=the starting valuation date ql.date\n",
    "        freq:str= an string defining the metric of time 1->annual  12->monthly\n",
    "        values:numpy array\n",
    "        \n",
    "        OUTPUT:\n",
    "        a list of SimpleCashFlow objects\n",
    "        \"\"\"\n",
    "        cashflows=[]\n",
    "        for value in values:\n",
    "            elapsedTime=np.where(values == value)[0][0] +1 #first index is always 0\n",
    "            per=ql.Period(int(12*freq*elapsedTime),ql.Months) #must be multiplied by 12 because of freq basis\n",
    "            futureTime=ql.Date.endOfMonth(startTime+per)\n",
    "            cf=ql.SimpleCashFlow(value,futureTime)\n",
    "            cashflows.append(cf)\n",
    "        return cashflows\n",
    "\n",
    "def calculate_sx_lx_with_lapse(qx,lapse_x):\n",
    "    \n",
    "    lxWithLapse=np.zeros(qx.size)\n",
    "    sxWithLapse=np.zeros(qx.size)\n",
    "    \n",
    "    sxWithLapse[0]=1\n",
    "    lxWithLapse[0]=qx[0]\n",
    "    for index in range(1,qx.size):\n",
    "        \n",
    "        sxWithLapse[index]=sxWithLapse[index-1]*(1-qx[index-1])*(1-lapse_x[index-1])\n",
    "        lxWithLapse[index]=sxWithLapse[index]*qx[index]\n",
    "    return sxWithLapse,lxWithLapse"
   ]
  },
  {
   "cell_type": "code",
   "execution_count": 14,
   "metadata": {},
   "outputs": [],
   "source": [
    "ss=IntX(bc.valuationDate)"
   ]
  },
  {
   "cell_type": "code",
   "execution_count": 15,
   "metadata": {},
   "outputs": [
    {
     "data": {
      "text/plain": [
       "183.200089792709"
      ]
     },
     "execution_count": 15,
     "metadata": {},
     "output_type": "execute_result"
    }
   ],
   "source": [
    "cfs=[ql.SimpleCashFlow(100,ql.Date(31,10,1931)),ql.SimpleCashFlow(100,ql.Date(31,10,1932))]\n",
    "\n",
    "result=ql.CashFlows.npv(cfs,discount_curve,True,bc.valuationDate)\n",
    "result"
   ]
  },
  {
   "cell_type": "code",
   "execution_count": 20,
   "metadata": {},
   "outputs": [
    {
     "name": "stdout",
     "output_type": "stream",
     "text": [
      "22.236639608319564\n",
      "23.48173418388111\n",
      "24.844812750296484\n",
      "26.33653900157573\n",
      "27.968449422466346\n",
      "29.753005441056636\n",
      "31.70364428765504\n",
      "33.83482724235609\n",
      "36.162083617287124\n",
      "38.70204841881386\n",
      "41.4724911606168\n",
      "44.492332740773136\n",
      "47.78164664438922\n",
      "51.3616399781236\n",
      "55.254608974932836\n",
      "59.48386261905747\n",
      "64.0736069287573\n",
      "69.04878119823654\n",
      "74.43483614887447\n",
      "80.25744249253397\n",
      "86.5421168997027\n",
      "93.31375084704385\n",
      "100.59602637251808\n",
      "108.41070150672482\n",
      "116.77674723532871\n",
      "125.70931749187442\n",
      "135.21853416214813\n",
      "145.30807075705198\n",
      "155.97352172531777\n",
      "167.2005498728546\n",
      "178.96281267089975\n",
      "191.2196801017607\n",
      "203.913772903469\n",
      "216.9683714460835\n",
      "230.28477274959934\n",
      "243.73970688900903\n",
      "257.18296440097487\n",
      "270.435432847419\n",
      "283.28779197887457\n",
      "295.50017017605734\n",
      "306.8031154001627\n",
      "316.9002748129812\n",
      "325.473198899085\n",
      "332.1886758124054\n",
      "336.70894461392487\n",
      "338.70501517624996\n",
      "337.8731211171426\n",
      "333.95403693819156\n",
      "326.7545965414437\n",
      "316.1702668804717\n",
      "302.2070887146669\n",
      "285.0007558223183\n",
      "264.8301569308398\n",
      "242.1224746690001\n",
      "217.44706670764793\n",
      "191.4959850878098\n",
      "165.05021574842863\n",
      "138.93254148804698\n",
      "113.95020002565148\n",
      "90.83289276977393\n",
      "70.17369094397371\n",
      "52.3813732378893\n",
      "37.65215355139585\n",
      "25.966322752767162\n",
      "17.111213346102403\n",
      "10.72686482566634\n",
      "6.36607918369798\n",
      "3.5576236560140155\n",
      "1.8612075044753078\n",
      "0.9057115671348472\n",
      "0.40709071446408934\n",
      "0.16770715072781117\n",
      "0.06279188987691285\n",
      "0.021170398586722542\n",
      "0.0063624798115821555\n"
     ]
    }
   ],
   "source": [
    "zz=cell.mitos[0].calculate_dx(policyX,cell.wareHouse)\n",
    "startDate=ql.Date(31,10,1929)\n",
    "aa=qf.create_cashflows(0,startDate,1,zz*10000)\n",
    "for a in aa:\n",
    "    print(a.amount())\n"
   ]
  },
  {
   "cell_type": "code",
   "execution_count": 18,
   "metadata": {},
   "outputs": [],
   "source": [
    "cursor.execute(\"select * from spot_rates where id=3\")\n",
    "out=cursor.fetchall()\n"
   ]
  },
  {
   "cell_type": "code",
   "execution_count": 20,
   "metadata": {},
   "outputs": [
    {
     "data": {
      "text/plain": [
       "Date(27,10,1929)"
      ]
     },
     "execution_count": 20,
     "metadata": {},
     "output_type": "execute_result"
    }
   ],
   "source": [
    "bc.valuationDate"
   ]
  },
  {
   "cell_type": "code",
   "execution_count": 27,
   "metadata": {},
   "outputs": [],
   "source": [
    "cfs=[ql.SimpleCashFlow(100,ql.Date(31,10,1931)),ql.SimpleCashFlow(100,ql.Date(31,10,1932))]\n",
    "spotValues=list(out[0][4:50])\n",
    "startDate=ql.Date(31,10,1929)\n",
    "dcurve=qf.create_spotCurve(spotValues,startDate,datetimeStruct2,intRate)\n"
   ]
  },
  {
   "cell_type": "code",
   "execution_count": 22,
   "metadata": {},
   "outputs": [],
   "source": [
    "myHandle=ql.YieldTermStructureHandle(dcurve)"
   ]
  },
  {
   "cell_type": "code",
   "execution_count": 25,
   "metadata": {},
   "outputs": [
    {
     "data": {
      "text/plain": [
       "191.97348605998428"
      ]
     },
     "execution_count": 25,
     "metadata": {},
     "output_type": "execute_result"
    }
   ],
   "source": [
    "ql.CashFlows.npv(cfs,spotCurveHandle,True,ql.Date(31,10,1929))"
   ]
  },
  {
   "cell_type": "code",
   "execution_count": null,
   "metadata": {},
   "outputs": [],
   "source": []
  }
 ],
 "metadata": {
  "kernelspec": {
   "display_name": "Python 3",
   "language": "python",
   "name": "python3"
  },
  "language_info": {
   "codemirror_mode": {
    "name": "ipython",
    "version": 3
   },
   "file_extension": ".py",
   "mimetype": "text/x-python",
   "name": "python",
   "nbconvert_exporter": "python",
   "pygments_lexer": "ipython3",
   "version": "3.7.3"
  }
 },
 "nbformat": 4,
 "nbformat_minor": 2
}
