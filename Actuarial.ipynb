{
 "cells": [
  {
   "cell_type": "code",
   "execution_count": 1,
   "metadata": {},
   "outputs": [],
   "source": [
    "import QuantLib as ql\n",
    "import pandas as pd\n",
    "import numpy as np\n",
    "import os \n",
    "import quantFin as qf\n",
    "import pymongo as py\n",
    "import mysql.connector\n",
    "import scipy.optimize as sp\n",
    "import math\n",
    "import matplotlib.pyplot as plt\n",
    "import time\n",
    "import datetime as dt\n",
    "import sys"
   ]
  },
  {
   "cell_type": "code",
   "execution_count": 168,
   "metadata": {},
   "outputs": [],
   "source": [
    "config = {\n",
    "    'user': 'root',\n",
    "    'password': 'cba123',\n",
    "    'host': '34.66.65.69',\n",
    "    'database':'ACT_01',\n",
    "    'use_pure':True,\n",
    "\n",
    "}\n",
    "cnxn = mysql.connector.connect(**config)\n",
    "cursor = cnxn.cursor()"
   ]
  },
  {
   "cell_type": "code",
   "execution_count": 169,
   "metadata": {},
   "outputs": [],
   "source": [
    "#get mortality assumptions and store them in a dictionary for quick referencing\n",
    "cursor.execute(\"select * from mortality_assumptions\")\n",
    "out=cursor.fetchall()\n",
    "out\n",
    "\n",
    "wareHouse=qf.AssumptionWareHouse()\n",
    "for o in out:\n",
    "    mortality=qf.MortalityAssumption()\n",
    "    mortality.id=o[0]\n",
    "    mortality.soa_table_name=o[1]\n",
    "    mortality.gamma_makeham=o[2]\n",
    "    mortality.beta_makeham=o[3]\n",
    "    mortality.alpha_makeham=o[4]\n",
    "    mortality.gender=o[5]\n",
    "    wareHouse.mort_dept[mortality.id]=mortality\n",
    "    "
   ]
  },
  {
   "cell_type": "code",
   "execution_count": 167,
   "metadata": {},
   "outputs": [],
   "source": [
    "cnxn.close()\n",
    "\n"
   ]
  },
  {
   "cell_type": "code",
   "execution_count": 173,
   "metadata": {},
   "outputs": [],
   "source": [
    "\n",
    "cell=qf.Cell()\n",
    "act1=qf.ActuarialBucket()\n",
    "cell.mitos.append(act1)\n",
    "cell.wareHouse.assump_set_dept[1]=qf.AssumptionSet(id=1,mortality_id=1)\n",
    "cell.wareHouse.assump_set_dept[2]=qf.AssumptionSet(id=2,mortality_id=2)\n",
    "cell.wareHouse.assump_set_dept[3]=qf.AssumptionSet(id=3,mortality_id=3)\n",
    "cell.wareHouse.assump_set_dept[4]=qf.AssumptionSet(id=4,mortality_id=4)\n",
    "cell.wareHouse.assump_set_dept[5]=qf.AssumptionSet(id=5,mortality_id=5)\n",
    "cell.wareHouse.assump_set_dept[6]=qf.AssumptionSet(id=6,mortality_id=6)\n",
    "cell.wareHouse.assump_set_dept[7]=qf.AssumptionSet(id=7,mortality_id=7)\n",
    "cell.wareHouse.assump_set_dept[8]=qf.AssumptionSet(id=8,mortality_id=8)\n",
    "for o in out:\n",
    "    mortality=qf.MortalityAssumption()\n",
    "    mortality.id=o[0]\n",
    "    mortality.soa_table_name=o[1]\n",
    "    mortality.gamma_makeham=o[2]\n",
    "    mortality.beta_makeham=o[3]\n",
    "    mortality.alpha_makeham=o[4]\n",
    "    mortality.gender=o[5]\n",
    "    cell.wareHouse.mort_dept[mortality.id]=mortality"
   ]
  },
  {
   "cell_type": "code",
   "execution_count": 174,
   "metadata": {},
   "outputs": [],
   "source": [
    "ass_set=qf.AssumptionSet(id=1,mortality_id=1)\n",
    "act_bucket=qf.ActuarialBucket(id=1,assumption_set_key=1)\n",
    "\n",
    "wareHouse.assump_set_dept[ass_set.id]=ass_set\n",
    "cell.mitos.append(act_bucket)\n",
    "policy=qf.policyHolder()\n",
    "policy.age=55\n",
    "policy.assumption_set_id=1\n",
    "\n"
   ]
  },
  {
   "cell_type": "code",
   "execution_count": 201,
   "metadata": {},
   "outputs": [],
   "source": [
    "policyX=qf.policyHolder()\n",
    "policyX.act_assumpset_id=2\n",
    "policyX.age=55"
   ]
  },
  {
   "cell_type": "code",
   "execution_count": 202,
   "metadata": {},
   "outputs": [
    {
     "name": "stdout",
     "output_type": "stream",
     "text": [
      "2\n",
      "lx:  29.266393445287697\n",
      "10.645785755681743\n",
      "55: 0.003475345243304062\n",
      "56: 0.0037954599291616714\n",
      "57: 0.0041513335391272855\n",
      "58: 0.00454694553633507\n",
      "59: 0.004986714682475552\n",
      "60: 0.005475546689208426\n",
      "61: 0.006018886837684052\n",
      "62: 0.006622778035810661\n",
      "63: 0.007293924815283114\n",
      "64: 0.008039763801761513\n",
      "65: 0.008868541220773945\n",
      "66: 0.009789398027415117\n",
      "67: 0.010812463267739384\n",
      "68: 0.011948956291419403\n",
      "69: 0.013211298435550032\n",
      "70: 0.014613234784421843\n",
      "71: 0.016169966574665726\n",
      "72: 0.01789829475312791\n",
      "73: 0.019816775098542495\n",
      "74: 0.02194588517805188\n",
      "75: 0.024308203214486804\n",
      "76: 0.02692859867613956\n",
      "77: 0.029834434050939836\n",
      "78: 0.03305577681161997\n",
      "79: 0.036625619994255995\n",
      "80: 0.04058010907216576\n",
      "81: 0.04495877187899169\n",
      "82: 0.04980474718308223\n",
      "83: 0.05516500610005213\n",
      "84: 0.06109055880805134\n",
      "85: 0.06763663695498863\n",
      "86: 0.07486283967248678\n",
      "87: 0.0828332281946469\n",
      "88: 0.09161635068571186\n",
      "89: 0.10128517498988486\n",
      "90: 0.1119169026349937\n",
      "91: 0.12359263259496073\n",
      "92: 0.13639683814828768\n",
      "93: 0.15041661484692384\n",
      "94: 0.16574065243041328\n",
      "95: 0.18245787893111937\n",
      "96: 0.2006557218553048\n",
      "97: 0.22041793006643812\n",
      "98: 0.24182190199817946\n",
      "99: 0.2649354725613502\n",
      "100: 0.2898131243967543\n",
      "101: 0.316491611095079\n",
      "102: 0.34498501302088386\n",
      "103: 0.37527929285449857\n",
      "104: 0.40732648004611377\n",
      "105: 0.44103869242372506\n",
      "106: 0.47628229905758024\n",
      "107: 0.5128726385069484\n",
      "108: 0.5505698243959463\n",
      "109: 0.5890762844771008\n",
      "110: 0.6280367722718653\n",
      "111: 0.6670416373899614\n",
      "112: 0.7056341105661474\n",
      "113: 0.7433222170415427\n",
      "114: 0.7795956430402622\n"
     ]
    }
   ],
   "source": [
    "\n",
    "zz=cell.mitos[0].calculate_qx(policyX,cell.wareHouse)\n",
    "print(policyX.act_assumpset_id)\n",
    "print(\"lx: \",cell.mitos[0].calculate_life_exp(policyX,cell.wareHouse))\n",
    "\n",
    "startDate=ql.Date(31,10,1929)\n",
    "aa=qf.create_cashflows(0,startDate,1,zz*1)\n",
    "print(sum(zz))\n",
    "\n",
    "n=0\n",
    "for a in aa:\n",
    "    \n",
    "    print(str(policyX.age+n)+':',a.amount())\n",
    "    n=n+1"
   ]
  },
  {
   "cell_type": "code",
   "execution_count": 18,
   "metadata": {},
   "outputs": [],
   "source": [
    "cursor.execute(\"select * from spot_rates where id=3\")\n",
    "out=cursor.fetchall()\n"
   ]
  },
  {
   "cell_type": "code",
   "execution_count": 20,
   "metadata": {},
   "outputs": [
    {
     "data": {
      "text/plain": [
       "Date(27,10,1929)"
      ]
     },
     "execution_count": 20,
     "metadata": {},
     "output_type": "execute_result"
    }
   ],
   "source": [
    "bc.valuationDate"
   ]
  },
  {
   "cell_type": "code",
   "execution_count": 27,
   "metadata": {},
   "outputs": [],
   "source": [
    "cfs=[ql.SimpleCashFlow(100,ql.Date(31,10,1931)),ql.SimpleCashFlow(100,ql.Date(31,10,1932))]\n",
    "spotValues=list(out[0][4:50])\n",
    "startDate=ql.Date(31,10,1929)\n",
    "dcurve=qf.create_spotCurve(spotValues,startDate,datetimeStruct2,intRate)\n"
   ]
  },
  {
   "cell_type": "code",
   "execution_count": 22,
   "metadata": {},
   "outputs": [],
   "source": [
    "myHandle=ql.YieldTermStructureHandle(dcurve)"
   ]
  },
  {
   "cell_type": "code",
   "execution_count": 25,
   "metadata": {},
   "outputs": [
    {
     "data": {
      "text/plain": [
       "191.97348605998428"
      ]
     },
     "execution_count": 25,
     "metadata": {},
     "output_type": "execute_result"
    }
   ],
   "source": [
    "ql.CashFlows.npv(cfs,spotCurveHandle,True,ql.Date(31,10,1929))"
   ]
  },
  {
   "cell_type": "code",
   "execution_count": 151,
   "metadata": {},
   "outputs": [
    {
     "data": {
      "text/plain": [
       "0.00912"
      ]
     },
     "execution_count": 151,
     "metadata": {},
     "output_type": "execute_result"
    }
   ],
   "source": [
    "#get mortality assumptions and store them in a dictionary for quick referencing\n",
    "cursor.execute(\"select * from qx_data where id=5\")\n",
    "out=cursor.fetchall()\n",
    "out[0][57]"
   ]
  },
  {
   "cell_type": "code",
   "execution_count": null,
   "metadata": {},
   "outputs": [],
   "source": [
    "cfs=[ql.SimpleCashFlow(100,ql.Date(31,10,1931)),ql.SimpleCashFlow(100,ql.Date(31,10,1932))]\n",
    "\n",
    "result=ql.CashFlows.npv(cfs,discount_curve,True,bc.valuationDate)\n",
    "result"
   ]
  },
  {
   "cell_type": "code",
   "execution_count": 204,
   "metadata": {},
   "outputs": [
    {
     "data": {
      "text/plain": [
       "[(2,\n",
       "  'US_social-Security-2016_F',\n",
       "  8.762829444019063e-06,\n",
       "  0.10623560169969236,\n",
       "  0.0006149490351940046,\n",
       "  0,\n",
       "  'US_social-Security-2016_F',\n",
       "  0,\n",
       "  'A')]"
      ]
     },
     "execution_count": 204,
     "metadata": {},
     "output_type": "execute_result"
    }
   ],
   "source": [
    "#get mortality assumptions and store them in a dictionary for quick referencing\n",
    "cursor.execute(\"select * from mortality_assumptions where id=2\")\n",
    "xout=cursor.fetchall()\n",
    "xout"
   ]
  },
  {
   "cell_type": "code",
   "execution_count": null,
   "metadata": {},
   "outputs": [],
   "source": []
  }
 ],
 "metadata": {
  "kernelspec": {
   "display_name": "Python 3",
   "language": "python",
   "name": "python3"
  },
  "language_info": {
   "codemirror_mode": {
    "name": "ipython",
    "version": 3
   },
   "file_extension": ".py",
   "mimetype": "text/x-python",
   "name": "python",
   "nbconvert_exporter": "python",
   "pygments_lexer": "ipython3",
   "version": "3.7.3"
  }
 },
 "nbformat": 4,
 "nbformat_minor": 2
}
