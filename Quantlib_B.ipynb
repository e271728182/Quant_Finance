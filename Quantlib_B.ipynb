{
 "cells": [
  {
   "cell_type": "code",
   "execution_count": 30,
   "metadata": {},
   "outputs": [],
   "source": [
    "from QuantLib import *\n",
    "import QuantLib as ql\n",
    "import pandas as pd\n",
    "import numpy as np\n",
    "from copy import deepcopy\n",
    "import os \n",
    "from scipy.optimize import newton\n",
    "import bmaOs as bma\n",
    "import pymongo as py"
   ]
  },
  {
   "cell_type": "code",
   "execution_count": 5,
   "metadata": {},
   "outputs": [],
   "source": [
    "class BmaScenarios:\n",
    "    \n",
    "    def Scen1(self,Xspreads):\n",
    "        __name='Scen1'\n",
    "        for n in range(1,len(Xspreads)):\n",
    "        #+15bps per year for 10 years level thereafter\n",
    "            Xspreads[n].setValue(-0.0015*min(n,10)) \n",
    "        return Xspreads,__name\n",
    "    \n",
    "    def Scen2(self,Xspreads):\n",
    "        __name='Scen2'\n",
    "        for n in range(1,len(Xspreads)):\n",
    "        #+15bps per year for 10 years level thereafter\n",
    "            Xspreads[n].setValue(+0.00150*min(n,10)) \n",
    "        return Xspreads,__name\n",
    "    \n",
    "    def Scen3(self,Xspreads):\n",
    "        __name='Scen3'\n",
    "        for n in range(1,len(Xspreads)):\n",
    "        #+30bps per year for 5 years then back to 0\n",
    "            if n<5:\n",
    "                Xspreads[n].setValue(+0.003*min(n,10)) \n",
    "            else:\n",
    "                Xspreads[n].setValue(0.015-0.03*min(n,10))    \n",
    "        return Xspreads,__name\n",
    "    "
   ]
  },
  {
   "cell_type": "code",
   "execution_count": 6,
   "metadata": {},
   "outputs": [],
   "source": [
    "path='/Users/gabounet/Quant_Finance/bma_discount2019Q1.xlsx'\n",
    "todayDate = ql.Date(30, 9, 2019)\n",
    "\n",
    "dfbma=pd.read_excel(path,sheet_name='test')\n",
    "dfbma['US']=dfbma['US']\n",
    "dfbma['US'].head()\n",
    "dfbma.insert(0, 'ID', range(0, len(dfbma)))\n",
    "dfbma['Date']=TARGET().advance(todayDate,0,Years)"
   ]
  },
  {
   "cell_type": "markdown",
   "metadata": {},
   "source": [
    "## Helper functions "
   ]
  },
  {
   "cell_type": "code",
   "execution_count": 7,
   "metadata": {},
   "outputs": [],
   "source": [
    "\n",
    "\n",
    "\n",
    "def valuation_formula( y):\n",
    "    return ql.TARGET().advance(todayDate,y,Months)\n",
    "\n",
    "dfbma['Date'] = dfbma.apply(lambda row: valuation_formula(row['ID']), axis=1)\n",
    "\n",
    "df_bmaScen=dfbma[['ID','Date','US']]\n",
    "df_bmaScen.head()\n",
    "\n",
    "\n",
    "def extractInfoFromCurve(valDate,originScenCurve,xspreads,colNames,spotCurve):\n",
    "    rates=[]\n",
    "    dates=list(spotCurve.dates())\n",
    "    print(len(dates))\n",
    "    years=0\n",
    "    __scenCurve = ql.SpreadedLinearZeroInterpolatedTermStructure(ql.YieldTermStructureHandle(originScenCurve),[ ql.QuoteHandle(q) for q in xspreads ],spotDates)\n",
    "   \n",
    "    for t in range(0,98):\n",
    "        #years=years+1\n",
    "        date=dates[t]\n",
    "        #nb years between valuation date and future date\n",
    "        yearPassed=ql.Thirty360().yearFraction(valDate, date)\n",
    "        if yearPassed>97:\n",
    "            break\n",
    "        #append to the list\n",
    "        rates.append(__scenCurve.zeroRate(yearPassed,ql.Compounded).rate())\n",
    "    #reutrns a dataframe of date & scenario curve    \n",
    "    return pd.DataFrame(list(zip(dates, rates)),columns=colNames)\n"
   ]
  },
  {
   "cell_type": "markdown",
   "metadata": {},
   "source": [
    "# Creating a schedule"
   ]
  },
  {
   "cell_type": "code",
   "execution_count": 8,
   "metadata": {},
   "outputs": [],
   "source": [
    "#Schedule generation\n",
    "effective_date = ql.Date(30, 9, 2019)\n",
    "termination_date = ql.Date(30, 9, 2118)\n",
    "tenor = ql.Period(ql.Annual)\n",
    "calendar = ql.UnitedStates()\n",
    "business_convention = ql.Following\n",
    "termination_business_convention = ql.Following\n",
    "date_generation = ql.DateGeneration.Forward\n",
    "end_of_month = True\n",
    "schedule = ql.Schedule(effective_date,\n",
    "                             termination_date,\n",
    "                             tenor,\n",
    "                             calendar,\n",
    "                             business_convention,termination_business_convention,\n",
    "                             date_generation,\n",
    "                             end_of_month)\n",
    "#pd.DataFrame({'date': list(schedule)})"
   ]
  },
  {
   "cell_type": "markdown",
   "metadata": {},
   "source": [
    "# Creating a term structure of interest"
   ]
  },
  {
   "cell_type": "code",
   "execution_count": 9,
   "metadata": {},
   "outputs": [],
   "source": [
    "\n",
    "mybma=BmaScenarios()\n",
    "#inputs from dataframe\n",
    "spotRates = dfbma['US'].tolist()[0:100]\n",
    "#dates that are incremented in yearts for the lenght of the term structure\n",
    "#spotDates=[TARGET().advance(todaysDate,n,Years) for n in range(1,101)]\n",
    "spotDates=list(schedule)\n",
    "\n",
    "#dayCount = ql.Thirty360()\n",
    "dayCount=ql.ActualActual()\n",
    "calendar = ql.UnitedStates()\n",
    "interpolation = ql.Linear()\n",
    "compounding = ql.Compounded\n",
    "compoundingFrequency = ql.Annual\n",
    "spotCurve = ql.ZeroCurve(spotDates, spotRates, dayCount, calendar, interpolation,compounding, compoundingFrequency)\n",
    "spotCurveHandle = ql.YieldTermStructureHandle(spotCurve)\n"
   ]
  },
  {
   "cell_type": "markdown",
   "metadata": {},
   "source": [
    "## implied term structure method"
   ]
  },
  {
   "cell_type": "code",
   "execution_count": 10,
   "metadata": {},
   "outputs": [
    {
     "data": {
      "text/plain": [
       "0.02230028720965982"
      ]
     },
     "execution_count": 10,
     "metadata": {},
     "output_type": "execute_result"
    }
   ],
   "source": [
    "#implied forward curve\n",
    "impl=ql.ImpliedTermStructure(spotCurveHandle,TARGET().advance(todayDate,1,Years))\n",
    "impl.zeroRate(1,ql.Compounded).rate()"
   ]
  },
  {
   "cell_type": "code",
   "execution_count": 11,
   "metadata": {},
   "outputs": [
    {
     "name": "stdout",
     "output_type": "stream",
     "text": [
      "100\n"
     ]
    },
    {
     "data": {
      "text/html": [
       "<div>\n",
       "<style scoped>\n",
       "    .dataframe tbody tr th:only-of-type {\n",
       "        vertical-align: middle;\n",
       "    }\n",
       "\n",
       "    .dataframe tbody tr th {\n",
       "        vertical-align: top;\n",
       "    }\n",
       "\n",
       "    .dataframe thead th {\n",
       "        text-align: right;\n",
       "    }\n",
       "</style>\n",
       "<table border=\"1\" class=\"dataframe\">\n",
       "  <thead>\n",
       "    <tr style=\"text-align: right;\">\n",
       "      <th></th>\n",
       "      <th>Date</th>\n",
       "      <th>base</th>\n",
       "    </tr>\n",
       "  </thead>\n",
       "  <tbody>\n",
       "    <tr>\n",
       "      <th>0</th>\n",
       "      <td>September 30th, 2019</td>\n",
       "      <td>0.000002</td>\n",
       "    </tr>\n",
       "    <tr>\n",
       "      <th>1</th>\n",
       "      <td>September 30th, 2020</td>\n",
       "      <td>0.024932</td>\n",
       "    </tr>\n",
       "    <tr>\n",
       "      <th>2</th>\n",
       "      <td>September 30th, 2021</td>\n",
       "      <td>0.023625</td>\n",
       "    </tr>\n",
       "    <tr>\n",
       "      <th>3</th>\n",
       "      <td>September 30th, 2022</td>\n",
       "      <td>0.022890</td>\n",
       "    </tr>\n",
       "    <tr>\n",
       "      <th>4</th>\n",
       "      <td>September 29th, 2023</td>\n",
       "      <td>0.022692</td>\n",
       "    </tr>\n",
       "  </tbody>\n",
       "</table>\n",
       "</div>"
      ],
      "text/plain": [
       "                   Date      base\n",
       "0  September 30th, 2019  0.000002\n",
       "1  September 30th, 2020  0.024932\n",
       "2  September 30th, 2021  0.023625\n",
       "3  September 30th, 2022  0.022890\n",
       "4  September 29th, 2023  0.022692"
      ]
     },
     "execution_count": 11,
     "metadata": {},
     "output_type": "execute_result"
    }
   ],
   "source": [
    "spreads = [ ql.SimpleQuote(0.0) for n in spotDates ]\n",
    "base=extractInfoFromCurve(todayDate,spotCurve,spreads,[\"Date\",'base'],spotCurve)\n",
    "base.head()"
   ]
  },
  {
   "cell_type": "markdown",
   "metadata": {},
   "source": [
    "### Getting a forward rate "
   ]
  },
  {
   "cell_type": "code",
   "execution_count": 12,
   "metadata": {},
   "outputs": [
    {
     "data": {
      "text/plain": [
       "0.02230038901066811"
      ]
     },
     "execution_count": 12,
     "metadata": {},
     "output_type": "execute_result"
    }
   ],
   "source": [
    "spotCurveHandle.forwardRate(ql.Date(30, 9, 2020),ql.Date(30, 9, 2021),ql.ActualActual(),ql.Compounded).rate()"
   ]
  },
  {
   "cell_type": "markdown",
   "metadata": {},
   "source": [
    "## discount as simple cash flow"
   ]
  },
  {
   "cell_type": "code",
   "execution_count": 13,
   "metadata": {},
   "outputs": [
    {
     "data": {
      "text/plain": [
       "1.0249667743731472"
      ]
     },
     "execution_count": 13,
     "metadata": {},
     "output_type": "execute_result"
    }
   ],
   "source": [
    "cf1=ql.SimpleCashFlow(1000,ql.Date(30, 9, 2020))\n",
    "cf2=ql.SimpleCashFlow(1000,ql.Date(30, 6, 2022))\n",
    "cf3=ql.SimpleCashFlow(1000,ql.Date(30, 6, 2023))\n",
    "cflist=[cf1,cf2,cf3]\n",
    "\n",
    "1/(cf1.amount()*spotCurveHandle.discount(cf1.date()))*1000"
   ]
  },
  {
   "cell_type": "markdown",
   "metadata": {},
   "source": [
    "#### discount multiple cash flows "
   ]
  },
  {
   "cell_type": "code",
   "execution_count": 14,
   "metadata": {},
   "outputs": [
    {
     "data": {
      "text/plain": [
       "1.0400283964306034"
      ]
     },
     "execution_count": 14,
     "metadata": {},
     "output_type": "execute_result"
    }
   ],
   "source": [
    "calc_date = Date(20, 6, 2019)\n",
    "risk_free_rate = 0.01\n",
    "\n",
    "ir=ql.InterestRate(0.04,dayCount,ql.Compounded,ql.Annual)\n",
    "\n",
    "discount_curve = YieldTermStructureHandle(\n",
    "                    FlatForward(calc_date, risk_free_rate, ActualActual()))\n",
    "\n",
    "\n",
    "cfZ=ql.SimpleCashFlow(1,ql.Date(30, 9, 2020))\n",
    "1/ql.CashFlows.npv([cfZ],spotCurveHandle,True,ql.Date(30, 9, 2019))\n",
    "1/ql.CashFlows.npv([cfZ],ir,True,ql.Date(30, 9, 2019))"
   ]
  },
  {
   "cell_type": "code",
   "execution_count": 15,
   "metadata": {},
   "outputs": [],
   "source": [
    "#ql.CashFlows.atmRate([cfZ],spotCurveHandle,False,ql.Date(30, 9, 2019))\n",
    "#ql.CashFlows.atmRate([cfZ],spotCurveHandle,True,ql.Date(30, 9, 2020),ql.Date(30, 9, 2019),973.92)"
   ]
  },
  {
   "cell_type": "markdown",
   "metadata": {},
   "source": [
    "### FORWARD MATCH FUNCTION "
   ]
  },
  {
   "cell_type": "code",
   "execution_count": 16,
   "metadata": {},
   "outputs": [
    {
     "data": {
      "text/plain": [
       "0.0"
      ]
     },
     "execution_count": 16,
     "metadata": {},
     "output_type": "execute_result"
    }
   ],
   "source": [
    "#implied forward curve from base\n",
    "yearsInFuture=0\n",
    "impl=ql.ImpliedTermStructure(spotCurveHandle,TARGET().advance(todayDate,yearsInFuture,Years))\n",
    "impl.zeroRate(1,ql.Compounded).rate()\n",
    "\n",
    "#spreads \n",
    "spreads = [ ql.SimpleQuote(0.0) for n in spotDates ] # null spreads to begin\n",
    "ScenarioCurve = ql.SpreadedLinearZeroInterpolatedTermStructure(ql.YieldTermStructureHandle(spotCurve),[ql.QuoteHandle(q) for q in spreads],spotDates)\n",
    "\n",
    "\n",
    "scenHandle=ql.YieldTermStructureHandle(ScenarioCurve)\n",
    "scenImpl=ql.ImpliedTermStructure(scenHandle,TARGET().advance(todayDate,yearsInFuture,Years))\n",
    "\n",
    "#cost function=\n",
    "scenImpl.zeroRate(1,ql.Compounded).rate()-impl.zeroRate(1,ql.Compounded).rate()"
   ]
  },
  {
   "cell_type": "markdown",
   "metadata": {},
   "source": [
    "## Dumb optim functions to match scenarios"
   ]
  },
  {
   "cell_type": "code",
   "execution_count": 17,
   "metadata": {},
   "outputs": [],
   "source": [
    "\n",
    "\n",
    "\n",
    "def dumboptim(guess,ScenCurve,baseCurve,todayDate,spotDate,spreads,target,indx):\n",
    "    \n",
    "    #futureDate=ql.TARGET().advance(todaysDate,nbfutureYears,Years)\n",
    "    futureDate=spotDate\n",
    "    baseCurveHandle = ql.YieldTermStructureHandle(baseCurve)\n",
    "    \n",
    "    spreads[indx].setValue(guess)\n",
    "    yearPassed=ql.Thirty360().yearFraction(todayDate, spotDate)\n",
    "    #yearPassed=indx\n",
    "    \n",
    "    scenHandle=ql.YieldTermStructureHandle(ScenCurve)\n",
    "    scenTarget=scenHandle.zeroRate(yearPassed,ql.Compounded).rate()\n",
    "    baseTarget=baseCurveHandle.zeroRate(yearPassed,ql.Compounded).rate()\n",
    "    return scenTarget-baseTarget-target\n",
    "    \n",
    "\n",
    "def dumbOptimForward(guess,target,todayDate,fDate,spreads,ScenCurve,baseCurve,nbfutureYears):\n",
    "    #print('X')\n",
    "    #futureDate=ql.TARGET().advance(todaysDate,nbfutureYears,Years)\n",
    "    futureDate=fDate\n",
    "    baseCurveHandle = ql.YieldTermStructureHandle(baseCurve)\n",
    "    \n",
    "    spreads[nbfutureYears].setValue(guess)\n",
    "    \n",
    "    baseImpl=ql.ImpliedTermStructure(baseCurveHandle,fDate)\n",
    "    #always the 1 year forward from a given future date calculated using the TARGET()\n",
    "    baseZeroRate=baseImpl.zeroRate(1,ql.Compounded).rate()\n",
    "    #print(baseZeroRate)\n",
    "    scenHandle=ql.YieldTermStructureHandle(ScenCurve)\n",
    "    \n",
    "    scenImpl=ql.ImpliedTermStructure(scenHandle,fDate)\n",
    "    scenZeroRate=scenImpl.zeroRate(1,ql.Compounded).rate()\n",
    "    #print(scenZeroRate)\n",
    "    #print(spreads[nbfutureYears].value())\n",
    "    #print(scenZeroRate-baseZeroRate-target)\n",
    "    return scenZeroRate-baseZeroRate-target"
   ]
  },
  {
   "cell_type": "markdown",
   "metadata": {},
   "source": [
    "## Matching assuming its forward rates "
   ]
  },
  {
   "cell_type": "code",
   "execution_count": 31,
   "metadata": {},
   "outputs": [],
   "source": [
    "client=py.MongoClient('mongodb://localhost:27017/')\n",
    "dbt=client.bmaTest"
   ]
  },
  {
   "cell_type": "code",
   "execution_count": 48,
   "metadata": {},
   "outputs": [],
   "source": [
    "deltas=dbt.test.find_one({'abc':'cda'})\n"
   ]
  },
  {
   "cell_type": "code",
   "execution_count": 47,
   "metadata": {},
   "outputs": [
    {
     "name": "stdout",
     "output_type": "stream",
     "text": [
      "100\n"
     ]
    },
    {
     "data": {
      "text/html": [
       "<div>\n",
       "<style scoped>\n",
       "    .dataframe tbody tr th:only-of-type {\n",
       "        vertical-align: middle;\n",
       "    }\n",
       "\n",
       "    .dataframe tbody tr th {\n",
       "        vertical-align: top;\n",
       "    }\n",
       "\n",
       "    .dataframe thead th {\n",
       "        text-align: right;\n",
       "    }\n",
       "</style>\n",
       "<table border=\"1\" class=\"dataframe\">\n",
       "  <thead>\n",
       "    <tr style=\"text-align: right;\">\n",
       "      <th></th>\n",
       "      <th>Date</th>\n",
       "      <th>base</th>\n",
       "      <th>test</th>\n",
       "      <th>delta</th>\n",
       "    </tr>\n",
       "  </thead>\n",
       "  <tbody>\n",
       "    <tr>\n",
       "      <th>0</th>\n",
       "      <td>September 30th, 2019</td>\n",
       "      <td>0.000002</td>\n",
       "      <td>0.000003</td>\n",
       "      <td>1.462456e-07</td>\n",
       "    </tr>\n",
       "    <tr>\n",
       "      <th>1</th>\n",
       "      <td>September 30th, 2020</td>\n",
       "      <td>0.024932</td>\n",
       "      <td>0.026432</td>\n",
       "      <td>1.500001e-03</td>\n",
       "    </tr>\n",
       "    <tr>\n",
       "      <th>2</th>\n",
       "      <td>September 30th, 2021</td>\n",
       "      <td>0.023625</td>\n",
       "      <td>0.025874</td>\n",
       "      <td>2.249326e-03</td>\n",
       "    </tr>\n",
       "    <tr>\n",
       "      <th>3</th>\n",
       "      <td>September 30th, 2022</td>\n",
       "      <td>0.022890</td>\n",
       "      <td>0.025890</td>\n",
       "      <td>3.000078e-03</td>\n",
       "    </tr>\n",
       "    <tr>\n",
       "      <th>4</th>\n",
       "      <td>September 29th, 2023</td>\n",
       "      <td>0.022692</td>\n",
       "      <td>0.026431</td>\n",
       "      <td>3.738848e-03</td>\n",
       "    </tr>\n",
       "    <tr>\n",
       "      <th>5</th>\n",
       "      <td>September 30th, 2024</td>\n",
       "      <td>0.022773</td>\n",
       "      <td>0.027265</td>\n",
       "      <td>4.492237e-03</td>\n",
       "    </tr>\n",
       "    <tr>\n",
       "      <th>6</th>\n",
       "      <td>September 30th, 2025</td>\n",
       "      <td>0.023009</td>\n",
       "      <td>0.028247</td>\n",
       "      <td>5.237790e-03</td>\n",
       "    </tr>\n",
       "    <tr>\n",
       "      <th>7</th>\n",
       "      <td>September 30th, 2026</td>\n",
       "      <td>0.023296</td>\n",
       "      <td>0.029282</td>\n",
       "      <td>5.986642e-03</td>\n",
       "    </tr>\n",
       "    <tr>\n",
       "      <th>8</th>\n",
       "      <td>September 30th, 2027</td>\n",
       "      <td>0.023606</td>\n",
       "      <td>0.030341</td>\n",
       "      <td>6.734825e-03</td>\n",
       "    </tr>\n",
       "    <tr>\n",
       "      <th>9</th>\n",
       "      <td>September 29th, 2028</td>\n",
       "      <td>0.023929</td>\n",
       "      <td>0.031394</td>\n",
       "      <td>7.465610e-03</td>\n",
       "    </tr>\n",
       "    <tr>\n",
       "      <th>10</th>\n",
       "      <td>September 28th, 2029</td>\n",
       "      <td>0.024263</td>\n",
       "      <td>0.032454</td>\n",
       "      <td>8.190104e-03</td>\n",
       "    </tr>\n",
       "    <tr>\n",
       "      <th>11</th>\n",
       "      <td>September 30th, 2030</td>\n",
       "      <td>0.024587</td>\n",
       "      <td>0.033397</td>\n",
       "      <td>8.809163e-03</td>\n",
       "    </tr>\n",
       "    <tr>\n",
       "      <th>12</th>\n",
       "      <td>September 30th, 2031</td>\n",
       "      <td>0.024867</td>\n",
       "      <td>0.034189</td>\n",
       "      <td>9.322143e-03</td>\n",
       "    </tr>\n",
       "    <tr>\n",
       "      <th>13</th>\n",
       "      <td>September 30th, 2032</td>\n",
       "      <td>0.025121</td>\n",
       "      <td>0.034877</td>\n",
       "      <td>9.756536e-03</td>\n",
       "    </tr>\n",
       "    <tr>\n",
       "      <th>14</th>\n",
       "      <td>September 30th, 2033</td>\n",
       "      <td>0.025350</td>\n",
       "      <td>0.035476</td>\n",
       "      <td>1.012564e-02</td>\n",
       "    </tr>\n",
       "  </tbody>\n",
       "</table>\n",
       "</div>"
      ],
      "text/plain": [
       "                    Date      base      test         delta\n",
       "0   September 30th, 2019  0.000002  0.000003  1.462456e-07\n",
       "1   September 30th, 2020  0.024932  0.026432  1.500001e-03\n",
       "2   September 30th, 2021  0.023625  0.025874  2.249326e-03\n",
       "3   September 30th, 2022  0.022890  0.025890  3.000078e-03\n",
       "4   September 29th, 2023  0.022692  0.026431  3.738848e-03\n",
       "5   September 30th, 2024  0.022773  0.027265  4.492237e-03\n",
       "6   September 30th, 2025  0.023009  0.028247  5.237790e-03\n",
       "7   September 30th, 2026  0.023296  0.029282  5.986642e-03\n",
       "8   September 30th, 2027  0.023606  0.030341  6.734825e-03\n",
       "9   September 29th, 2028  0.023929  0.031394  7.465610e-03\n",
       "10  September 28th, 2029  0.024263  0.032454  8.190104e-03\n",
       "11  September 30th, 2030  0.024587  0.033397  8.809163e-03\n",
       "12  September 30th, 2031  0.024867  0.034189  9.322143e-03\n",
       "13  September 30th, 2032  0.025121  0.034877  9.756536e-03\n",
       "14  September 30th, 2033  0.025350  0.035476  1.012564e-02"
      ]
     },
     "execution_count": 47,
     "metadata": {},
     "output_type": "execute_result"
    }
   ],
   "source": [
    "#spreads \n",
    "#mybma=BmaScenarios()\n",
    "\n",
    "datesX=list(spotCurve.dates())\n",
    "spreads = [ ql.SimpleQuote(0.0) for n in spotDates ] # null spreads to begin\n",
    "ScenCurve = ql.SpreadedLinearZeroInterpolatedTermStructure(ql.YieldTermStructureHandle(spotCurve),[ql.QuoteHandle(q) for q in spreads],datesX)\n",
    "\n",
    "baseCurve=spotCurve\n",
    "datesX=list(spotCurve.dates())\n",
    "myGuess=0.03\n",
    "spreads,colname=mybma.Scen2(spreads)\n",
    "\n",
    "#spreads,colname=mybma.Scen2(spreads)\n",
    "\n",
    "colname='test'\n",
    "for t in range(1,100):\n",
    "    if t>len(deltas['scen2'])-1:\n",
    "        \n",
    "    #target=spreads[t].value()\n",
    "        target=deltas['scen2'][-1]\n",
    "    else:\n",
    "        target=deltas['scen2'][t]    \n",
    "    #print(target)\n",
    "    timePeriod=datesX[t-1]\n",
    "    x=newton(bma.forwardMatch,myGuess,args=(target,todayDate,timePeriod,spreads,ScenCurve,baseCurve,t))\n",
    "    \n",
    "\n",
    "\n",
    "df2=extractInfoFromCurve(todayDate,baseCurve,spreads,[\"Date\",colname],baseCurve)\n",
    "\n",
    "df_bmaScenY=base.merge(df2,on=['Date'], suffixes=('','_lag'), how='left')\n",
    "df_bmaScenY['delta']=df_bmaScenY['test']-df_bmaScenY['base']\n",
    "df_bmaScenY.head(15)\n"
   ]
  },
  {
   "cell_type": "markdown",
   "metadata": {},
   "source": [
    "### Tests"
   ]
  },
  {
   "cell_type": "code",
   "execution_count": 50,
   "metadata": {},
   "outputs": [],
   "source": [
    "baseCurveHandle = ql.YieldTermStructureHandle(baseCurve)\n",
    "#spotCurveHandle.forwardRate(ql.Date(30, 9, 2020),ql.Date(30, 9, 2021),ql.Thirty360(),ql.Compounded).rate()\n",
    "scenHandle=ql.YieldTermStructureHandle(ScenCurve)\n",
    "date1=ql.Date(30, 9, 2022)\n",
    "date2=ql.Date(30, 9, 2023)\n",
    "a=baseCurveHandle.forwardRate(date1,date2,ql.ActualActual(),ql.Compounded).rate()\n",
    "b=scenHandle.forwardRate(date1,date2,ql.ActualActual(),ql.Compounded).rate()\n",
    "\n",
    "assert b-a <0.006"
   ]
  },
  {
   "cell_type": "markdown",
   "metadata": {},
   "source": [
    "## Match according to spot rates"
   ]
  },
  {
   "cell_type": "code",
   "execution_count": 21,
   "metadata": {},
   "outputs": [
    {
     "name": "stdout",
     "output_type": "stream",
     "text": [
      "0.0135\n"
     ]
    }
   ],
   "source": [
    "spreads,colname=mybma.Scen2(spreads)\n",
    "print(spreads[9].value())\n",
    "todaysDate = ql.Date(30, 9, 2019)\n",
    "myGuess=0.03\n",
    "datesX=list(spotCurve.dates())\n",
    "\n",
    "#for t in range(1,len([spotCurve.dates()])):\n",
    "for t in range(1,85):   \n",
    "    #t=t+1\n",
    "    indx=t\n",
    "    if t>98:\n",
    "        break\n",
    "    target=spreads[t].value()\n",
    "    spotDate=datesX[t]\n",
    "    x=newton(bma.spotRateMatch,myGuess,args=(ScenCurve,baseCurve,todayDate,spotDate,spreads,target,indx))\n",
    "\n"
   ]
  },
  {
   "cell_type": "code",
   "execution_count": 22,
   "metadata": {},
   "outputs": [
    {
     "name": "stdout",
     "output_type": "stream",
     "text": [
      "100\n",
      "0.002926475782581509\n"
     ]
    },
    {
     "data": {
      "text/html": [
       "<div>\n",
       "<style scoped>\n",
       "    .dataframe tbody tr th:only-of-type {\n",
       "        vertical-align: middle;\n",
       "    }\n",
       "\n",
       "    .dataframe tbody tr th {\n",
       "        vertical-align: top;\n",
       "    }\n",
       "\n",
       "    .dataframe thead th {\n",
       "        text-align: right;\n",
       "    }\n",
       "</style>\n",
       "<table border=\"1\" class=\"dataframe\">\n",
       "  <thead>\n",
       "    <tr style=\"text-align: right;\">\n",
       "      <th></th>\n",
       "      <th>Date</th>\n",
       "      <th>base</th>\n",
       "      <th>Scen2</th>\n",
       "      <th>delta</th>\n",
       "    </tr>\n",
       "  </thead>\n",
       "  <tbody>\n",
       "    <tr>\n",
       "      <th>0</th>\n",
       "      <td>September 30th, 2019</td>\n",
       "      <td>0.000002</td>\n",
       "      <td>0.000003</td>\n",
       "      <td>1.462456e-07</td>\n",
       "    </tr>\n",
       "    <tr>\n",
       "      <th>1</th>\n",
       "      <td>September 30th, 2020</td>\n",
       "      <td>0.024932</td>\n",
       "      <td>0.026432</td>\n",
       "      <td>1.500001e-03</td>\n",
       "    </tr>\n",
       "    <tr>\n",
       "      <th>2</th>\n",
       "      <td>September 30th, 2021</td>\n",
       "      <td>0.023625</td>\n",
       "      <td>0.026625</td>\n",
       "      <td>3.000001e-03</td>\n",
       "    </tr>\n",
       "    <tr>\n",
       "      <th>3</th>\n",
       "      <td>September 30th, 2022</td>\n",
       "      <td>0.022890</td>\n",
       "      <td>0.027390</td>\n",
       "      <td>4.500001e-03</td>\n",
       "    </tr>\n",
       "    <tr>\n",
       "      <th>4</th>\n",
       "      <td>September 29th, 2023</td>\n",
       "      <td>0.022692</td>\n",
       "      <td>0.028692</td>\n",
       "      <td>6.000001e-03</td>\n",
       "    </tr>\n",
       "    <tr>\n",
       "      <th>5</th>\n",
       "      <td>September 30th, 2024</td>\n",
       "      <td>0.022773</td>\n",
       "      <td>0.030273</td>\n",
       "      <td>7.500000e-03</td>\n",
       "    </tr>\n",
       "    <tr>\n",
       "      <th>6</th>\n",
       "      <td>September 30th, 2025</td>\n",
       "      <td>0.023009</td>\n",
       "      <td>0.032009</td>\n",
       "      <td>9.000000e-03</td>\n",
       "    </tr>\n",
       "    <tr>\n",
       "      <th>7</th>\n",
       "      <td>September 30th, 2026</td>\n",
       "      <td>0.023296</td>\n",
       "      <td>0.033796</td>\n",
       "      <td>1.050000e-02</td>\n",
       "    </tr>\n",
       "    <tr>\n",
       "      <th>8</th>\n",
       "      <td>September 30th, 2027</td>\n",
       "      <td>0.023606</td>\n",
       "      <td>0.035606</td>\n",
       "      <td>1.200000e-02</td>\n",
       "    </tr>\n",
       "    <tr>\n",
       "      <th>9</th>\n",
       "      <td>September 29th, 2028</td>\n",
       "      <td>0.023929</td>\n",
       "      <td>0.037429</td>\n",
       "      <td>1.350000e-02</td>\n",
       "    </tr>\n",
       "    <tr>\n",
       "      <th>10</th>\n",
       "      <td>September 28th, 2029</td>\n",
       "      <td>0.024263</td>\n",
       "      <td>0.039263</td>\n",
       "      <td>1.500000e-02</td>\n",
       "    </tr>\n",
       "    <tr>\n",
       "      <th>11</th>\n",
       "      <td>September 30th, 2030</td>\n",
       "      <td>0.024587</td>\n",
       "      <td>0.039587</td>\n",
       "      <td>1.500000e-02</td>\n",
       "    </tr>\n",
       "    <tr>\n",
       "      <th>12</th>\n",
       "      <td>September 30th, 2031</td>\n",
       "      <td>0.024867</td>\n",
       "      <td>0.039867</td>\n",
       "      <td>1.500000e-02</td>\n",
       "    </tr>\n",
       "    <tr>\n",
       "      <th>13</th>\n",
       "      <td>September 30th, 2032</td>\n",
       "      <td>0.025121</td>\n",
       "      <td>0.040121</td>\n",
       "      <td>1.500000e-02</td>\n",
       "    </tr>\n",
       "    <tr>\n",
       "      <th>14</th>\n",
       "      <td>September 30th, 2033</td>\n",
       "      <td>0.025350</td>\n",
       "      <td>0.040350</td>\n",
       "      <td>1.500000e-02</td>\n",
       "    </tr>\n",
       "    <tr>\n",
       "      <th>15</th>\n",
       "      <td>September 29th, 2034</td>\n",
       "      <td>0.025507</td>\n",
       "      <td>0.040507</td>\n",
       "      <td>1.500000e-02</td>\n",
       "    </tr>\n",
       "    <tr>\n",
       "      <th>16</th>\n",
       "      <td>September 28th, 2035</td>\n",
       "      <td>0.025676</td>\n",
       "      <td>0.040676</td>\n",
       "      <td>1.500000e-02</td>\n",
       "    </tr>\n",
       "    <tr>\n",
       "      <th>17</th>\n",
       "      <td>September 30th, 2036</td>\n",
       "      <td>0.025795</td>\n",
       "      <td>0.040795</td>\n",
       "      <td>1.500000e-02</td>\n",
       "    </tr>\n",
       "    <tr>\n",
       "      <th>18</th>\n",
       "      <td>September 30th, 2037</td>\n",
       "      <td>0.025907</td>\n",
       "      <td>0.040907</td>\n",
       "      <td>1.500000e-02</td>\n",
       "    </tr>\n",
       "    <tr>\n",
       "      <th>19</th>\n",
       "      <td>September 30th, 2038</td>\n",
       "      <td>0.025991</td>\n",
       "      <td>0.040991</td>\n",
       "      <td>1.500000e-02</td>\n",
       "    </tr>\n",
       "  </tbody>\n",
       "</table>\n",
       "</div>"
      ],
      "text/plain": [
       "                    Date      base     Scen2         delta\n",
       "0   September 30th, 2019  0.000002  0.000003  1.462456e-07\n",
       "1   September 30th, 2020  0.024932  0.026432  1.500001e-03\n",
       "2   September 30th, 2021  0.023625  0.026625  3.000001e-03\n",
       "3   September 30th, 2022  0.022890  0.027390  4.500001e-03\n",
       "4   September 29th, 2023  0.022692  0.028692  6.000001e-03\n",
       "5   September 30th, 2024  0.022773  0.030273  7.500000e-03\n",
       "6   September 30th, 2025  0.023009  0.032009  9.000000e-03\n",
       "7   September 30th, 2026  0.023296  0.033796  1.050000e-02\n",
       "8   September 30th, 2027  0.023606  0.035606  1.200000e-02\n",
       "9   September 29th, 2028  0.023929  0.037429  1.350000e-02\n",
       "10  September 28th, 2029  0.024263  0.039263  1.500000e-02\n",
       "11  September 30th, 2030  0.024587  0.039587  1.500000e-02\n",
       "12  September 30th, 2031  0.024867  0.039867  1.500000e-02\n",
       "13  September 30th, 2032  0.025121  0.040121  1.500000e-02\n",
       "14  September 30th, 2033  0.025350  0.040350  1.500000e-02\n",
       "15  September 29th, 2034  0.025507  0.040507  1.500000e-02\n",
       "16  September 28th, 2035  0.025676  0.040676  1.500000e-02\n",
       "17  September 30th, 2036  0.025795  0.040795  1.500000e-02\n",
       "18  September 30th, 2037  0.025907  0.040907  1.500000e-02\n",
       "19  September 30th, 2038  0.025991  0.040991  1.500000e-02"
      ]
     },
     "execution_count": 22,
     "metadata": {},
     "output_type": "execute_result"
    }
   ],
   "source": [
    "df2=extractInfoFromCurve(todaysDate,spotCurve,spreads,[\"Date\",colname],baseCurve)\n",
    "    \n",
    "df_bmaScenY=base.merge(df2,on=['Date'], suffixes=('','_lag'), how='left')\n",
    "df_bmaScenY['delta']=df_bmaScenY['Scen2']-df_bmaScenY['base']\n",
    "\n",
    "print(spreads[2].value())\n",
    "df_bmaScenY.head(20)"
   ]
  },
  {
   "cell_type": "code",
   "execution_count": null,
   "metadata": {},
   "outputs": [],
   "source": []
  }
 ],
 "metadata": {
  "kernelspec": {
   "display_name": "Python 3",
   "language": "python",
   "name": "python3"
  },
  "language_info": {
   "codemirror_mode": {
    "name": "ipython",
    "version": 3
   },
   "file_extension": ".py",
   "mimetype": "text/x-python",
   "name": "python",
   "nbconvert_exporter": "python",
   "pygments_lexer": "ipython3",
   "version": "3.7.3"
  }
 },
 "nbformat": 4,
 "nbformat_minor": 2
}
